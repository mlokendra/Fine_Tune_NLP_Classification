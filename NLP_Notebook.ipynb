{
  "cells": [
    {
      "cell_type": "markdown",
      "metadata": {
        "id": "8Dit-iOlNPBk"
      },
      "source": [
        "##### **Lokendra Kumar Meena**\n"
      ]
    },
    {
      "cell_type": "markdown",
      "metadata": {
        "id": "jVMQIDQiNPBm"
      },
      "source": [
        "##### **Objective:** The goal is to build a text classification model using the Hugging Face library to classify a dataset of text into one of multiple categories. The candidate will use a pre-trained model such as BERT or GPT-2 as a starting point and fine-tune it on the classification task."
      ]
    },
    {
      "cell_type": "markdown",
      "metadata": {
        "id": "71epk7yLNPBn"
      },
      "source": [
        "##### **Task summary**\n",
        "- Obtain a good standard text classification dataset that supports multi-class classification.\n",
        "- Use a pre-trained Tensorflow Hugging Face Transformer to fine-tune the model with the obtained data.\n",
        "- Use the Evaluation Metrics (We will be using a Confusion Matrix, and F1 Score to evaluate the model) and determine how good the model really is at prediction."
      ]
    },
    {
      "cell_type": "markdown",
      "metadata": {
        "id": "xwA4WoJcNPBo"
      },
      "source": [
        "##### **Dataset Summary:**\n",
        "- The dataset contains three distinct classes: World, Sports, Business, Science/Tech.\n",
        "- Both the training and test CSVs contain three columns: Class Index, Title, Description.\n",
        "- The Class Index represents the category of the article (1 for World, 2 for Sports, 3 for Business, and 4 for Science/Tech.)\n",
        "- The title column contains the title of the articles.\n",
        "- The description column contains the actual content of the article."
      ]
    },
    {
      "cell_type": "markdown",
      "metadata": {
        "id": "HARvFSwpNPBp"
      },
      "source": [
        "### **1. Preliminary Steps**"
      ]
    },
    {
      "cell_type": "code",
      "execution_count": null,
      "metadata": {
        "id": "BsuMu2etRwoM"
      },
      "outputs": [],
      "source": [
        "#!pip install apex\n"
      ]
    },
    {
      "cell_type": "markdown",
      "metadata": {
        "id": "_1XGpIrYNPBp"
      },
      "source": [
        "##### **Importing all required libraries**"
      ]
    },
    {
      "cell_type": "code",
      "execution_count": null,
      "metadata": {
        "execution": {
          "iopub.execute_input": "2023-03-07T09:23:09.195633Z",
          "iopub.status.busy": "2023-03-07T09:23:09.194629Z",
          "iopub.status.idle": "2023-03-07T09:23:09.202733Z",
          "shell.execute_reply": "2023-03-07T09:23:09.201465Z",
          "shell.execute_reply.started": "2023-03-07T09:23:09.195587Z"
        },
        "id": "1tVNPWO4NPBq",
        "trusted": true
      },
      "outputs": [],
      "source": [
        "# General Libraries\n",
        "import tensorflow as tf\n",
        "import numpy as np\n",
        "import pandas as pd\n",
        "import re\n",
        "import torch\n",
        "import os\n",
        "\n",
        "# Importing the required Transformer models\n",
        "from transformers import AutoTokenizer, DataCollatorWithPadding\n",
        "from transformers import AutoModelForSequenceClassification, TrainingArguments, Trainer, logging\n",
        "\n",
        "# The training-validation split\n",
        "from sklearn.model_selection import train_test_split\n",
        "\n",
        "# The transformers library doesn't work particularly well with pandas dataframes\n",
        "from datasets import Dataset\n",
        "\n",
        "# Metrics and Visualizers\n",
        "from sklearn.metrics import confusion_matrix, ConfusionMatrixDisplay\n",
        "from sklearn.metrics import precision_recall_fscore_support as score\n",
        "import matplotlib.pyplot as plt"
      ]
    },
    {
      "cell_type": "code",
      "execution_count": null,
      "metadata": {
        "colab": {
          "base_uri": "https://localhost:8080/"
        },
        "id": "lqj6zBIqNmZU",
        "outputId": "ae7bce01-29a4-4308-f4b6-a420173bc957"
      },
      "outputs": [
        {
          "name": "stdout",
          "output_type": "stream",
          "text": [
            "Requirement already satisfied: datasets in /usr/local/lib/python3.10/dist-packages (2.17.1)\n",
            "Requirement already satisfied: filelock in /usr/local/lib/python3.10/dist-packages (from datasets) (3.13.1)\n",
            "Requirement already satisfied: numpy>=1.17 in /usr/local/lib/python3.10/dist-packages (from datasets) (1.25.2)\n",
            "Requirement already satisfied: pyarrow>=12.0.0 in /usr/local/lib/python3.10/dist-packages (from datasets) (14.0.2)\n",
            "Requirement already satisfied: pyarrow-hotfix in /usr/local/lib/python3.10/dist-packages (from datasets) (0.6)\n",
            "Requirement already satisfied: dill<0.3.9,>=0.3.0 in /usr/local/lib/python3.10/dist-packages (from datasets) (0.3.8)\n",
            "Requirement already satisfied: pandas in /usr/local/lib/python3.10/dist-packages (from datasets) (1.5.3)\n",
            "Requirement already satisfied: requests>=2.19.0 in /usr/local/lib/python3.10/dist-packages (from datasets) (2.31.0)\n",
            "Requirement already satisfied: tqdm>=4.62.1 in /usr/local/lib/python3.10/dist-packages (from datasets) (4.66.2)\n",
            "Requirement already satisfied: xxhash in /usr/local/lib/python3.10/dist-packages (from datasets) (3.4.1)\n",
            "Requirement already satisfied: multiprocess in /usr/local/lib/python3.10/dist-packages (from datasets) (0.70.16)\n",
            "Requirement already satisfied: fsspec[http]<=2023.10.0,>=2023.1.0 in /usr/local/lib/python3.10/dist-packages (from datasets) (2023.6.0)\n",
            "Requirement already satisfied: aiohttp in /usr/local/lib/python3.10/dist-packages (from datasets) (3.9.3)\n",
            "Requirement already satisfied: huggingface-hub>=0.19.4 in /usr/local/lib/python3.10/dist-packages (from datasets) (0.20.3)\n",
            "Requirement already satisfied: packaging in /usr/local/lib/python3.10/dist-packages (from datasets) (23.2)\n",
            "Requirement already satisfied: pyyaml>=5.1 in /usr/local/lib/python3.10/dist-packages (from datasets) (6.0.1)\n",
            "Requirement already satisfied: aiosignal>=1.1.2 in /usr/local/lib/python3.10/dist-packages (from aiohttp->datasets) (1.3.1)\n",
            "Requirement already satisfied: attrs>=17.3.0 in /usr/local/lib/python3.10/dist-packages (from aiohttp->datasets) (23.2.0)\n",
            "Requirement already satisfied: frozenlist>=1.1.1 in /usr/local/lib/python3.10/dist-packages (from aiohttp->datasets) (1.4.1)\n",
            "Requirement already satisfied: multidict<7.0,>=4.5 in /usr/local/lib/python3.10/dist-packages (from aiohttp->datasets) (6.0.5)\n",
            "Requirement already satisfied: yarl<2.0,>=1.0 in /usr/local/lib/python3.10/dist-packages (from aiohttp->datasets) (1.9.4)\n",
            "Requirement already satisfied: async-timeout<5.0,>=4.0 in /usr/local/lib/python3.10/dist-packages (from aiohttp->datasets) (4.0.3)\n",
            "Requirement already satisfied: typing-extensions>=3.7.4.3 in /usr/local/lib/python3.10/dist-packages (from huggingface-hub>=0.19.4->datasets) (4.10.0)\n",
            "Requirement already satisfied: charset-normalizer<4,>=2 in /usr/local/lib/python3.10/dist-packages (from requests>=2.19.0->datasets) (3.3.2)\n",
            "Requirement already satisfied: idna<4,>=2.5 in /usr/local/lib/python3.10/dist-packages (from requests>=2.19.0->datasets) (3.6)\n",
            "Requirement already satisfied: urllib3<3,>=1.21.1 in /usr/local/lib/python3.10/dist-packages (from requests>=2.19.0->datasets) (2.0.7)\n",
            "Requirement already satisfied: certifi>=2017.4.17 in /usr/local/lib/python3.10/dist-packages (from requests>=2.19.0->datasets) (2024.2.2)\n",
            "Requirement already satisfied: python-dateutil>=2.8.1 in /usr/local/lib/python3.10/dist-packages (from pandas->datasets) (2.8.2)\n",
            "Requirement already satisfied: pytz>=2020.1 in /usr/local/lib/python3.10/dist-packages (from pandas->datasets) (2023.4)\n",
            "Requirement already satisfied: six>=1.5 in /usr/local/lib/python3.10/dist-packages (from python-dateutil>=2.8.1->pandas->datasets) (1.16.0)\n"
          ]
        }
      ],
      "source": [
        "!pip install datasets"
      ]
    },
    {
      "cell_type": "code",
      "execution_count": null,
      "metadata": {
        "execution": {
          "iopub.execute_input": "2023-03-07T08:37:42.108842Z",
          "iopub.status.busy": "2023-03-07T08:37:42.107934Z",
          "iopub.status.idle": "2023-03-07T08:37:42.114196Z",
          "shell.execute_reply": "2023-03-07T08:37:42.112784Z",
          "shell.execute_reply.started": "2023-03-07T08:37:42.108798Z"
        },
        "id": "pRGlRUtBNPBr",
        "trusted": true
      },
      "outputs": [],
      "source": [
        "# Disable from connecting to Weights and Biases\n",
        "os.environ[\"WANDB_DISABLED\"] = \"true\""
      ]
    },
    {
      "cell_type": "markdown",
      "metadata": {
        "id": "WK2slyDuNPBr"
      },
      "source": [
        "##### **Loading the training and testing datasets**"
      ]
    },
    {
      "cell_type": "code",
      "execution_count": null,
      "metadata": {
        "execution": {
          "iopub.execute_input": "2023-03-07T08:37:42.11638Z",
          "iopub.status.busy": "2023-03-07T08:37:42.115659Z",
          "iopub.status.idle": "2023-03-07T08:37:42.526754Z",
          "shell.execute_reply": "2023-03-07T08:37:42.525742Z",
          "shell.execute_reply.started": "2023-03-07T08:37:42.116343Z"
        },
        "id": "OxhWSOInNPBr",
        "trusted": true
      },
      "outputs": [],
      "source": [
        "df_train = pd.read_csv('/train.csv', header=0, names=['labels', 'title', 'description']).sample(frac = 0.5)\n",
        "df_test = pd.read_csv('/test.csv', header=0, names= ['labels', 'title', 'description'])"
      ]
    },
    {
      "cell_type": "markdown",
      "metadata": {
        "id": "TbzJPI6yNPBs"
      },
      "source": [
        "##### **Viewing the head of the training dataframe**"
      ]
    },
    {
      "cell_type": "code",
      "execution_count": null,
      "metadata": {
        "colab": {
          "base_uri": "https://localhost:8080/",
          "height": 204
        },
        "execution": {
          "iopub.execute_input": "2023-03-07T08:37:42.530728Z",
          "iopub.status.busy": "2023-03-07T08:37:42.530327Z",
          "iopub.status.idle": "2023-03-07T08:37:42.544534Z",
          "shell.execute_reply": "2023-03-07T08:37:42.543591Z",
          "shell.execute_reply.started": "2023-03-07T08:37:42.530697Z"
        },
        "id": "POsHoUMqNPBs",
        "outputId": "d010600e-e3a7-49b2-c713-401861e1a6dd",
        "trusted": true
      },
      "outputs": [
        {
          "data": {
            "application/vnd.google.colaboratory.intrinsic+json": {
              "summary": "{\n  \"name\": \"df_train\",\n  \"rows\": 60000,\n  \"fields\": [\n    {\n      \"column\": \"labels\",\n      \"properties\": {\n        \"dtype\": \"number\",\n        \"std\": 1,\n        \"min\": 1,\n        \"max\": 4,\n        \"num_unique_values\": 4,\n        \"samples\": [\n          4,\n          2,\n          1\n        ],\n        \"semantic_type\": \"\",\n        \"description\": \"\"\n      }\n    },\n    {\n      \"column\": \"title\",\n      \"properties\": {\n        \"dtype\": \"string\",\n        \"num_unique_values\": 58345,\n        \"samples\": [\n          \"BSE 'link to different CJD types'\",\n          \"Ukraine prime minister takes lead in runoff\",\n          \"Daimler #39;s Car Quest\"\n        ],\n        \"semantic_type\": \"\",\n        \"description\": \"\"\n      }\n    },\n    {\n      \"column\": \"description\",\n      \"properties\": {\n        \"dtype\": \"string\",\n        \"num_unique_values\": 59643,\n        \"samples\": [\n          \"AUSTRALIA will arrive in Mumbai tomorrow night for their pivotal Test showdown with India jarred by the disappointment of their heaviest one-day loss for two years.\",\n          \"AP - Adnan al-Ghoul, the Hamas military leader assassinated in an Israeli missile strike Thursday, had long eluded Israeli forces through a mixture of stealth and luck.\",\n          \"Striving to keep pace with crossover-minded rivals, cable operator Charter Communications (CHTR:Nasdaq - news - research) hammered out phone-service arrangements with two big carriers and a consultant.\"\n        ],\n        \"semantic_type\": \"\",\n        \"description\": \"\"\n      }\n    }\n  ]\n}",
              "type": "dataframe",
              "variable_name": "df_train"
            },
            "text/html": [
              "\n",
              "  <div id=\"df-59d8893b-28d9-49ad-b983-7b0d999ec0bc\" class=\"colab-df-container\">\n",
              "    <div>\n",
              "<style scoped>\n",
              "    .dataframe tbody tr th:only-of-type {\n",
              "        vertical-align: middle;\n",
              "    }\n",
              "\n",
              "    .dataframe tbody tr th {\n",
              "        vertical-align: top;\n",
              "    }\n",
              "\n",
              "    .dataframe thead th {\n",
              "        text-align: right;\n",
              "    }\n",
              "</style>\n",
              "<table border=\"1\" class=\"dataframe\">\n",
              "  <thead>\n",
              "    <tr style=\"text-align: right;\">\n",
              "      <th></th>\n",
              "      <th>labels</th>\n",
              "      <th>title</th>\n",
              "      <th>description</th>\n",
              "    </tr>\n",
              "  </thead>\n",
              "  <tbody>\n",
              "    <tr>\n",
              "      <th>35187</th>\n",
              "      <td>1</td>\n",
              "      <td>2 Assessments of Iraq, 2 Election Strategies</td>\n",
              "      <td>The presidential candidates' opposed images of...</td>\n",
              "    </tr>\n",
              "    <tr>\n",
              "      <th>8847</th>\n",
              "      <td>4</td>\n",
              "      <td>Experts to Breed Sheep to Study Disease (AP)</td>\n",
              "      <td>AP - New Zealand researchers said Tuesday they...</td>\n",
              "    </tr>\n",
              "    <tr>\n",
              "      <th>106522</th>\n",
              "      <td>3</td>\n",
              "      <td>Update 1: Blockbuster May Raise Offer for Rival</td>\n",
              "      <td>Blockbuster Inc., locked in a bidding war for ...</td>\n",
              "    </tr>\n",
              "    <tr>\n",
              "      <th>102712</th>\n",
              "      <td>3</td>\n",
              "      <td>Wal-Mart Sees Nov. US Sales Up 0.7 Pct</td>\n",
              "      <td>Wal-Mart Stores Inc. (WMT.N: Quote, Profile, R...</td>\n",
              "    </tr>\n",
              "    <tr>\n",
              "      <th>70586</th>\n",
              "      <td>1</td>\n",
              "      <td>Omar Abdullah survives assassination bid</td>\n",
              "      <td>SRINAGAR: The head of held Kashmir #39;s main ...</td>\n",
              "    </tr>\n",
              "  </tbody>\n",
              "</table>\n",
              "</div>\n",
              "    <div class=\"colab-df-buttons\">\n",
              "\n",
              "  <div class=\"colab-df-container\">\n",
              "    <button class=\"colab-df-convert\" onclick=\"convertToInteractive('df-59d8893b-28d9-49ad-b983-7b0d999ec0bc')\"\n",
              "            title=\"Convert this dataframe to an interactive table.\"\n",
              "            style=\"display:none;\">\n",
              "\n",
              "  <svg xmlns=\"http://www.w3.org/2000/svg\" height=\"24px\" viewBox=\"0 -960 960 960\">\n",
              "    <path d=\"M120-120v-720h720v720H120Zm60-500h600v-160H180v160Zm220 220h160v-160H400v160Zm0 220h160v-160H400v160ZM180-400h160v-160H180v160Zm440 0h160v-160H620v160ZM180-180h160v-160H180v160Zm440 0h160v-160H620v160Z\"/>\n",
              "  </svg>\n",
              "    </button>\n",
              "\n",
              "  <style>\n",
              "    .colab-df-container {\n",
              "      display:flex;\n",
              "      gap: 12px;\n",
              "    }\n",
              "\n",
              "    .colab-df-convert {\n",
              "      background-color: #E8F0FE;\n",
              "      border: none;\n",
              "      border-radius: 50%;\n",
              "      cursor: pointer;\n",
              "      display: none;\n",
              "      fill: #1967D2;\n",
              "      height: 32px;\n",
              "      padding: 0 0 0 0;\n",
              "      width: 32px;\n",
              "    }\n",
              "\n",
              "    .colab-df-convert:hover {\n",
              "      background-color: #E2EBFA;\n",
              "      box-shadow: 0px 1px 2px rgba(60, 64, 67, 0.3), 0px 1px 3px 1px rgba(60, 64, 67, 0.15);\n",
              "      fill: #174EA6;\n",
              "    }\n",
              "\n",
              "    .colab-df-buttons div {\n",
              "      margin-bottom: 4px;\n",
              "    }\n",
              "\n",
              "    [theme=dark] .colab-df-convert {\n",
              "      background-color: #3B4455;\n",
              "      fill: #D2E3FC;\n",
              "    }\n",
              "\n",
              "    [theme=dark] .colab-df-convert:hover {\n",
              "      background-color: #434B5C;\n",
              "      box-shadow: 0px 1px 3px 1px rgba(0, 0, 0, 0.15);\n",
              "      filter: drop-shadow(0px 1px 2px rgba(0, 0, 0, 0.3));\n",
              "      fill: #FFFFFF;\n",
              "    }\n",
              "  </style>\n",
              "\n",
              "    <script>\n",
              "      const buttonEl =\n",
              "        document.querySelector('#df-59d8893b-28d9-49ad-b983-7b0d999ec0bc button.colab-df-convert');\n",
              "      buttonEl.style.display =\n",
              "        google.colab.kernel.accessAllowed ? 'block' : 'none';\n",
              "\n",
              "      async function convertToInteractive(key) {\n",
              "        const element = document.querySelector('#df-59d8893b-28d9-49ad-b983-7b0d999ec0bc');\n",
              "        const dataTable =\n",
              "          await google.colab.kernel.invokeFunction('convertToInteractive',\n",
              "                                                    [key], {});\n",
              "        if (!dataTable) return;\n",
              "\n",
              "        const docLinkHtml = 'Like what you see? Visit the ' +\n",
              "          '<a target=\"_blank\" href=https://colab.research.google.com/notebooks/data_table.ipynb>data table notebook</a>'\n",
              "          + ' to learn more about interactive tables.';\n",
              "        element.innerHTML = '';\n",
              "        dataTable['output_type'] = 'display_data';\n",
              "        await google.colab.output.renderOutput(dataTable, element);\n",
              "        const docLink = document.createElement('div');\n",
              "        docLink.innerHTML = docLinkHtml;\n",
              "        element.appendChild(docLink);\n",
              "      }\n",
              "    </script>\n",
              "  </div>\n",
              "\n",
              "\n",
              "<div id=\"df-8b173ff6-296b-4a27-94ab-b4350fb3edd7\">\n",
              "  <button class=\"colab-df-quickchart\" onclick=\"quickchart('df-8b173ff6-296b-4a27-94ab-b4350fb3edd7')\"\n",
              "            title=\"Suggest charts\"\n",
              "            style=\"display:none;\">\n",
              "\n",
              "<svg xmlns=\"http://www.w3.org/2000/svg\" height=\"24px\"viewBox=\"0 0 24 24\"\n",
              "     width=\"24px\">\n",
              "    <g>\n",
              "        <path d=\"M19 3H5c-1.1 0-2 .9-2 2v14c0 1.1.9 2 2 2h14c1.1 0 2-.9 2-2V5c0-1.1-.9-2-2-2zM9 17H7v-7h2v7zm4 0h-2V7h2v10zm4 0h-2v-4h2v4z\"/>\n",
              "    </g>\n",
              "</svg>\n",
              "  </button>\n",
              "\n",
              "<style>\n",
              "  .colab-df-quickchart {\n",
              "      --bg-color: #E8F0FE;\n",
              "      --fill-color: #1967D2;\n",
              "      --hover-bg-color: #E2EBFA;\n",
              "      --hover-fill-color: #174EA6;\n",
              "      --disabled-fill-color: #AAA;\n",
              "      --disabled-bg-color: #DDD;\n",
              "  }\n",
              "\n",
              "  [theme=dark] .colab-df-quickchart {\n",
              "      --bg-color: #3B4455;\n",
              "      --fill-color: #D2E3FC;\n",
              "      --hover-bg-color: #434B5C;\n",
              "      --hover-fill-color: #FFFFFF;\n",
              "      --disabled-bg-color: #3B4455;\n",
              "      --disabled-fill-color: #666;\n",
              "  }\n",
              "\n",
              "  .colab-df-quickchart {\n",
              "    background-color: var(--bg-color);\n",
              "    border: none;\n",
              "    border-radius: 50%;\n",
              "    cursor: pointer;\n",
              "    display: none;\n",
              "    fill: var(--fill-color);\n",
              "    height: 32px;\n",
              "    padding: 0;\n",
              "    width: 32px;\n",
              "  }\n",
              "\n",
              "  .colab-df-quickchart:hover {\n",
              "    background-color: var(--hover-bg-color);\n",
              "    box-shadow: 0 1px 2px rgba(60, 64, 67, 0.3), 0 1px 3px 1px rgba(60, 64, 67, 0.15);\n",
              "    fill: var(--button-hover-fill-color);\n",
              "  }\n",
              "\n",
              "  .colab-df-quickchart-complete:disabled,\n",
              "  .colab-df-quickchart-complete:disabled:hover {\n",
              "    background-color: var(--disabled-bg-color);\n",
              "    fill: var(--disabled-fill-color);\n",
              "    box-shadow: none;\n",
              "  }\n",
              "\n",
              "  .colab-df-spinner {\n",
              "    border: 2px solid var(--fill-color);\n",
              "    border-color: transparent;\n",
              "    border-bottom-color: var(--fill-color);\n",
              "    animation:\n",
              "      spin 1s steps(1) infinite;\n",
              "  }\n",
              "\n",
              "  @keyframes spin {\n",
              "    0% {\n",
              "      border-color: transparent;\n",
              "      border-bottom-color: var(--fill-color);\n",
              "      border-left-color: var(--fill-color);\n",
              "    }\n",
              "    20% {\n",
              "      border-color: transparent;\n",
              "      border-left-color: var(--fill-color);\n",
              "      border-top-color: var(--fill-color);\n",
              "    }\n",
              "    30% {\n",
              "      border-color: transparent;\n",
              "      border-left-color: var(--fill-color);\n",
              "      border-top-color: var(--fill-color);\n",
              "      border-right-color: var(--fill-color);\n",
              "    }\n",
              "    40% {\n",
              "      border-color: transparent;\n",
              "      border-right-color: var(--fill-color);\n",
              "      border-top-color: var(--fill-color);\n",
              "    }\n",
              "    60% {\n",
              "      border-color: transparent;\n",
              "      border-right-color: var(--fill-color);\n",
              "    }\n",
              "    80% {\n",
              "      border-color: transparent;\n",
              "      border-right-color: var(--fill-color);\n",
              "      border-bottom-color: var(--fill-color);\n",
              "    }\n",
              "    90% {\n",
              "      border-color: transparent;\n",
              "      border-bottom-color: var(--fill-color);\n",
              "    }\n",
              "  }\n",
              "</style>\n",
              "\n",
              "  <script>\n",
              "    async function quickchart(key) {\n",
              "      const quickchartButtonEl =\n",
              "        document.querySelector('#' + key + ' button');\n",
              "      quickchartButtonEl.disabled = true;  // To prevent multiple clicks.\n",
              "      quickchartButtonEl.classList.add('colab-df-spinner');\n",
              "      try {\n",
              "        const charts = await google.colab.kernel.invokeFunction(\n",
              "            'suggestCharts', [key], {});\n",
              "      } catch (error) {\n",
              "        console.error('Error during call to suggestCharts:', error);\n",
              "      }\n",
              "      quickchartButtonEl.classList.remove('colab-df-spinner');\n",
              "      quickchartButtonEl.classList.add('colab-df-quickchart-complete');\n",
              "    }\n",
              "    (() => {\n",
              "      let quickchartButtonEl =\n",
              "        document.querySelector('#df-8b173ff6-296b-4a27-94ab-b4350fb3edd7 button');\n",
              "      quickchartButtonEl.style.display =\n",
              "        google.colab.kernel.accessAllowed ? 'block' : 'none';\n",
              "    })();\n",
              "  </script>\n",
              "</div>\n",
              "    </div>\n",
              "  </div>\n"
            ],
            "text/plain": [
              "        labels                                            title  \\\n",
              "35187        1     2 Assessments of Iraq, 2 Election Strategies   \n",
              "8847         4     Experts to Breed Sheep to Study Disease (AP)   \n",
              "106522       3  Update 1: Blockbuster May Raise Offer for Rival   \n",
              "102712       3           Wal-Mart Sees Nov. US Sales Up 0.7 Pct   \n",
              "70586        1         Omar Abdullah survives assassination bid   \n",
              "\n",
              "                                              description  \n",
              "35187   The presidential candidates' opposed images of...  \n",
              "8847    AP - New Zealand researchers said Tuesday they...  \n",
              "106522  Blockbuster Inc., locked in a bidding war for ...  \n",
              "102712  Wal-Mart Stores Inc. (WMT.N: Quote, Profile, R...  \n",
              "70586   SRINAGAR: The head of held Kashmir #39;s main ...  "
            ]
          },
          "execution_count": 6,
          "metadata": {},
          "output_type": "execute_result"
        }
      ],
      "source": [
        "df_train.head()"
      ]
    },
    {
      "cell_type": "code",
      "execution_count": null,
      "metadata": {
        "cellView": "form",
        "colab": {
          "base_uri": "https://localhost:8080/",
          "height": 452
        },
        "id": "yApvJYOcOnBz",
        "outputId": "fea137cd-8a63-42a4-fab8-11dc6bf133ab"
      },
      "outputs": [
        {
          "data": {
            "image/png": "[encoded data removed]",
            "text/plain": [
              "<Figure size 640x480 with 1 Axes>"
            ]
          },
          "metadata": {},
          "output_type": "display_data"
        }
      ],
      "source": [
        "# @title labels\n",
        "\n",
        "from matplotlib import pyplot as plt\n",
        "df_train['labels'].plot(kind='hist', bins=20, title='labels')\n",
        "plt.gca().spines[['top', 'right',]].set_visible(False)"
      ]
    },
    {
      "cell_type": "markdown",
      "metadata": {
        "id": "1tE64HEkNPBt"
      },
      "source": [
        "##### **Viewing the head of the testing dataframe**"
      ]
    },
    {
      "cell_type": "code",
      "execution_count": null,
      "metadata": {
        "colab": {
          "base_uri": "https://localhost:8080/",
          "height": 204
        },
        "execution": {
          "iopub.execute_input": "2023-03-07T08:37:42.546423Z",
          "iopub.status.busy": "2023-03-07T08:37:42.54598Z",
          "iopub.status.idle": "2023-03-07T08:37:42.563337Z",
          "shell.execute_reply": "2023-03-07T08:37:42.562383Z",
          "shell.execute_reply.started": "2023-03-07T08:37:42.546386Z"
        },
        "id": "HaNcWk0pNPBt",
        "outputId": "6b0254bf-c533-42a6-e430-3ef943589426",
        "trusted": true
      },
      "outputs": [
        {
          "data": {
            "application/vnd.google.colaboratory.intrinsic+json": {
              "summary": "{\n  \"name\": \"df_test\",\n  \"rows\": 7600,\n  \"fields\": [\n    {\n      \"column\": \"labels\",\n      \"properties\": {\n        \"dtype\": \"number\",\n        \"std\": 1,\n        \"min\": 1,\n        \"max\": 4,\n        \"num_unique_values\": 4,\n        \"samples\": [\n          4,\n          1,\n          3\n        ],\n        \"semantic_type\": \"\",\n        \"description\": \"\"\n      }\n    },\n    {\n      \"column\": \"title\",\n      \"properties\": {\n        \"dtype\": \"string\",\n        \"num_unique_values\": 7568,\n        \"samples\": [\n          \"'Nano-needle' operates on cell\",\n          \"Russia Says Attack Was To Ignite Regional War\",\n          \"Olympics-Five sports on shortlist for possible Games inclusion\"\n        ],\n        \"semantic_type\": \"\",\n        \"description\": \"\"\n      }\n    },\n    {\n      \"column\": \"description\",\n      \"properties\": {\n        \"dtype\": \"string\",\n        \"num_unique_values\": 7594,\n        \"samples\": [\n          \"By Karen Pallarito, HealthDay Reporter    HealthDayNews -- Determined this cold season to nip your sneezing, runny nose and scratchy throat in the bud before those nasty respiratory symptoms sideline you?    There's a broad array of cold remedies you might want to try, ranging from over-the-counter preparations to basic ingredients tucked away in your kitchen pantry.    So what'll it be? A combination pain reliever and nasal decongestant? Vitamin C and echinacea? Tea with honey? A brimming bowl of chicken soup?     It turns out the best advice for dealing with the misery of a cold is the same principle mothers often apply when trying to coax their unruly toddlers to take a nap: Whatever works...\",\n          \"Hewlett-Packard Co. (HPQ.N: Quote, Profile, Research) and Intel Corp. (INTC.O: Quote, Profile, Research) on Wednesday ended their 10-year partnership to co-develop the Itanium chip \",\n          \"Japan #39;s baseball players averted a second strike this weekend after agreeing that a new team will be allowed to join Japanese professional baseball next season.\"\n        ],\n        \"semantic_type\": \"\",\n        \"description\": \"\"\n      }\n    }\n  ]\n}",
              "type": "dataframe",
              "variable_name": "df_test"
            },
            "text/html": [
              "\n",
              "  <div id=\"df-b38ecd54-20c5-40c6-87f5-70795865f975\" class=\"colab-df-container\">\n",
              "    <div>\n",
              "<style scoped>\n",
              "    .dataframe tbody tr th:only-of-type {\n",
              "        vertical-align: middle;\n",
              "    }\n",
              "\n",
              "    .dataframe tbody tr th {\n",
              "        vertical-align: top;\n",
              "    }\n",
              "\n",
              "    .dataframe thead th {\n",
              "        text-align: right;\n",
              "    }\n",
              "</style>\n",
              "<table border=\"1\" class=\"dataframe\">\n",
              "  <thead>\n",
              "    <tr style=\"text-align: right;\">\n",
              "      <th></th>\n",
              "      <th>labels</th>\n",
              "      <th>title</th>\n",
              "      <th>description</th>\n",
              "    </tr>\n",
              "  </thead>\n",
              "  <tbody>\n",
              "    <tr>\n",
              "      <th>0</th>\n",
              "      <td>3</td>\n",
              "      <td>Fears for T N pension after talks</td>\n",
              "      <td>Unions representing workers at Turner   Newall...</td>\n",
              "    </tr>\n",
              "    <tr>\n",
              "      <th>1</th>\n",
              "      <td>4</td>\n",
              "      <td>The Race is On: Second Private Team Sets Launc...</td>\n",
              "      <td>SPACE.com - TORONTO, Canada -- A second\\team o...</td>\n",
              "    </tr>\n",
              "    <tr>\n",
              "      <th>2</th>\n",
              "      <td>4</td>\n",
              "      <td>Ky. Company Wins Grant to Study Peptides (AP)</td>\n",
              "      <td>AP - A company founded by a chemistry research...</td>\n",
              "    </tr>\n",
              "    <tr>\n",
              "      <th>3</th>\n",
              "      <td>4</td>\n",
              "      <td>Prediction Unit Helps Forecast Wildfires (AP)</td>\n",
              "      <td>AP - It's barely dawn when Mike Fitzpatrick st...</td>\n",
              "    </tr>\n",
              "    <tr>\n",
              "      <th>4</th>\n",
              "      <td>4</td>\n",
              "      <td>Calif. Aims to Limit Farm-Related Smog (AP)</td>\n",
              "      <td>AP - Southern California's smog-fighting agenc...</td>\n",
              "    </tr>\n",
              "  </tbody>\n",
              "</table>\n",
              "</div>\n",
              "    <div class=\"colab-df-buttons\">\n",
              "\n",
              "  <div class=\"colab-df-container\">\n",
              "    <button class=\"colab-df-convert\" onclick=\"convertToInteractive('df-b38ecd54-20c5-40c6-87f5-70795865f975')\"\n",
              "            title=\"Convert this dataframe to an interactive table.\"\n",
              "            style=\"display:none;\">\n",
              "\n",
              "  <svg xmlns=\"http://www.w3.org/2000/svg\" height=\"24px\" viewBox=\"0 -960 960 960\">\n",
              "    <path d=\"M120-120v-720h720v720H120Zm60-500h600v-160H180v160Zm220 220h160v-160H400v160Zm0 220h160v-160H400v160ZM180-400h160v-160H180v160Zm440 0h160v-160H620v160ZM180-180h160v-160H180v160Zm440 0h160v-160H620v160Z\"/>\n",
              "  </svg>\n",
              "    </button>\n",
              "\n",
              "  <style>\n",
              "    .colab-df-container {\n",
              "      display:flex;\n",
              "      gap: 12px;\n",
              "    }\n",
              "\n",
              "    .colab-df-convert {\n",
              "      background-color: #E8F0FE;\n",
              "      border: none;\n",
              "      border-radius: 50%;\n",
              "      cursor: pointer;\n",
              "      display: none;\n",
              "      fill: #1967D2;\n",
              "      height: 32px;\n",
              "      padding: 0 0 0 0;\n",
              "      width: 32px;\n",
              "    }\n",
              "\n",
              "    .colab-df-convert:hover {\n",
              "      background-color: #E2EBFA;\n",
              "      box-shadow: 0px 1px 2px rgba(60, 64, 67, 0.3), 0px 1px 3px 1px rgba(60, 64, 67, 0.15);\n",
              "      fill: #174EA6;\n",
              "    }\n",
              "\n",
              "    .colab-df-buttons div {\n",
              "      margin-bottom: 4px;\n",
              "    }\n",
              "\n",
              "    [theme=dark] .colab-df-convert {\n",
              "      background-color: #3B4455;\n",
              "      fill: #D2E3FC;\n",
              "    }\n",
              "\n",
              "    [theme=dark] .colab-df-convert:hover {\n",
              "      background-color: #434B5C;\n",
              "      box-shadow: 0px 1px 3px 1px rgba(0, 0, 0, 0.15);\n",
              "      filter: drop-shadow(0px 1px 2px rgba(0, 0, 0, 0.3));\n",
              "      fill: #FFFFFF;\n",
              "    }\n",
              "  </style>\n",
              "\n",
              "    <script>\n",
              "      const buttonEl =\n",
              "        document.querySelector('#df-b38ecd54-20c5-40c6-87f5-70795865f975 button.colab-df-convert');\n",
              "      buttonEl.style.display =\n",
              "        google.colab.kernel.accessAllowed ? 'block' : 'none';\n",
              "\n",
              "      async function convertToInteractive(key) {\n",
              "        const element = document.querySelector('#df-b38ecd54-20c5-40c6-87f5-70795865f975');\n",
              "        const dataTable =\n",
              "          await google.colab.kernel.invokeFunction('convertToInteractive',\n",
              "                                                    [key], {});\n",
              "        if (!dataTable) return;\n",
              "\n",
              "        const docLinkHtml = 'Like what you see? Visit the ' +\n",
              "          '<a target=\"_blank\" href=https://colab.research.google.com/notebooks/data_table.ipynb>data table notebook</a>'\n",
              "          + ' to learn more about interactive tables.';\n",
              "        element.innerHTML = '';\n",
              "        dataTable['output_type'] = 'display_data';\n",
              "        await google.colab.output.renderOutput(dataTable, element);\n",
              "        const docLink = document.createElement('div');\n",
              "        docLink.innerHTML = docLinkHtml;\n",
              "        element.appendChild(docLink);\n",
              "      }\n",
              "    </script>\n",
              "  </div>\n",
              "\n",
              "\n",
              "<div id=\"df-6b5f5e9b-571b-4bc6-9a09-aaada88e95e1\">\n",
              "  <button class=\"colab-df-quickchart\" onclick=\"quickchart('df-6b5f5e9b-571b-4bc6-9a09-aaada88e95e1')\"\n",
              "            title=\"Suggest charts\"\n",
              "            style=\"display:none;\">\n",
              "\n",
              "<svg xmlns=\"http://www.w3.org/2000/svg\" height=\"24px\"viewBox=\"0 0 24 24\"\n",
              "     width=\"24px\">\n",
              "    <g>\n",
              "        <path d=\"M19 3H5c-1.1 0-2 .9-2 2v14c0 1.1.9 2 2 2h14c1.1 0 2-.9 2-2V5c0-1.1-.9-2-2-2zM9 17H7v-7h2v7zm4 0h-2V7h2v10zm4 0h-2v-4h2v4z\"/>\n",
              "    </g>\n",
              "</svg>\n",
              "  </button>\n",
              "\n",
              "<style>\n",
              "  .colab-df-quickchart {\n",
              "      --bg-color: #E8F0FE;\n",
              "      --fill-color: #1967D2;\n",
              "      --hover-bg-color: #E2EBFA;\n",
              "      --hover-fill-color: #174EA6;\n",
              "      --disabled-fill-color: #AAA;\n",
              "      --disabled-bg-color: #DDD;\n",
              "  }\n",
              "\n",
              "  [theme=dark] .colab-df-quickchart {\n",
              "      --bg-color: #3B4455;\n",
              "      --fill-color: #D2E3FC;\n",
              "      --hover-bg-color: #434B5C;\n",
              "      --hover-fill-color: #FFFFFF;\n",
              "      --disabled-bg-color: #3B4455;\n",
              "      --disabled-fill-color: #666;\n",
              "  }\n",
              "\n",
              "  .colab-df-quickchart {\n",
              "    background-color: var(--bg-color);\n",
              "    border: none;\n",
              "    border-radius: 50%;\n",
              "    cursor: pointer;\n",
              "    display: none;\n",
              "    fill: var(--fill-color);\n",
              "    height: 32px;\n",
              "    padding: 0;\n",
              "    width: 32px;\n",
              "  }\n",
              "\n",
              "  .colab-df-quickchart:hover {\n",
              "    background-color: var(--hover-bg-color);\n",
              "    box-shadow: 0 1px 2px rgba(60, 64, 67, 0.3), 0 1px 3px 1px rgba(60, 64, 67, 0.15);\n",
              "    fill: var(--button-hover-fill-color);\n",
              "  }\n",
              "\n",
              "  .colab-df-quickchart-complete:disabled,\n",
              "  .colab-df-quickchart-complete:disabled:hover {\n",
              "    background-color: var(--disabled-bg-color);\n",
              "    fill: var(--disabled-fill-color);\n",
              "    box-shadow: none;\n",
              "  }\n",
              "\n",
              "  .colab-df-spinner {\n",
              "    border: 2px solid var(--fill-color);\n",
              "    border-color: transparent;\n",
              "    border-bottom-color: var(--fill-color);\n",
              "    animation:\n",
              "      spin 1s steps(1) infinite;\n",
              "  }\n",
              "\n",
              "  @keyframes spin {\n",
              "    0% {\n",
              "      border-color: transparent;\n",
              "      border-bottom-color: var(--fill-color);\n",
              "      border-left-color: var(--fill-color);\n",
              "    }\n",
              "    20% {\n",
              "      border-color: transparent;\n",
              "      border-left-color: var(--fill-color);\n",
              "      border-top-color: var(--fill-color);\n",
              "    }\n",
              "    30% {\n",
              "      border-color: transparent;\n",
              "      border-left-color: var(--fill-color);\n",
              "      border-top-color: var(--fill-color);\n",
              "      border-right-color: var(--fill-color);\n",
              "    }\n",
              "    40% {\n",
              "      border-color: transparent;\n",
              "      border-right-color: var(--fill-color);\n",
              "      border-top-color: var(--fill-color);\n",
              "    }\n",
              "    60% {\n",
              "      border-color: transparent;\n",
              "      border-right-color: var(--fill-color);\n",
              "    }\n",
              "    80% {\n",
              "      border-color: transparent;\n",
              "      border-right-color: var(--fill-color);\n",
              "      border-bottom-color: var(--fill-color);\n",
              "    }\n",
              "    90% {\n",
              "      border-color: transparent;\n",
              "      border-bottom-color: var(--fill-color);\n",
              "    }\n",
              "  }\n",
              "</style>\n",
              "\n",
              "  <script>\n",
              "    async function quickchart(key) {\n",
              "      const quickchartButtonEl =\n",
              "        document.querySelector('#' + key + ' button');\n",
              "      quickchartButtonEl.disabled = true;  // To prevent multiple clicks.\n",
              "      quickchartButtonEl.classList.add('colab-df-spinner');\n",
              "      try {\n",
              "        const charts = await google.colab.kernel.invokeFunction(\n",
              "            'suggestCharts', [key], {});\n",
              "      } catch (error) {\n",
              "        console.error('Error during call to suggestCharts:', error);\n",
              "      }\n",
              "      quickchartButtonEl.classList.remove('colab-df-spinner');\n",
              "      quickchartButtonEl.classList.add('colab-df-quickchart-complete');\n",
              "    }\n",
              "    (() => {\n",
              "      let quickchartButtonEl =\n",
              "        document.querySelector('#df-6b5f5e9b-571b-4bc6-9a09-aaada88e95e1 button');\n",
              "      quickchartButtonEl.style.display =\n",
              "        google.colab.kernel.accessAllowed ? 'block' : 'none';\n",
              "    })();\n",
              "  </script>\n",
              "</div>\n",
              "    </div>\n",
              "  </div>\n"
            ],
            "text/plain": [
              "   labels                                              title  \\\n",
              "0       3                  Fears for T N pension after talks   \n",
              "1       4  The Race is On: Second Private Team Sets Launc...   \n",
              "2       4      Ky. Company Wins Grant to Study Peptides (AP)   \n",
              "3       4      Prediction Unit Helps Forecast Wildfires (AP)   \n",
              "4       4        Calif. Aims to Limit Farm-Related Smog (AP)   \n",
              "\n",
              "                                         description  \n",
              "0  Unions representing workers at Turner   Newall...  \n",
              "1  SPACE.com - TORONTO, Canada -- A second\\team o...  \n",
              "2  AP - A company founded by a chemistry research...  \n",
              "3  AP - It's barely dawn when Mike Fitzpatrick st...  \n",
              "4  AP - Southern California's smog-fighting agenc...  "
            ]
          },
          "execution_count": 8,
          "metadata": {},
          "output_type": "execute_result"
        }
      ],
      "source": [
        "df_test.head()"
      ]
    },
    {
      "cell_type": "markdown",
      "metadata": {
        "id": "UD31_xzINPBt"
      },
      "source": [
        "##### **Making changes to the original dataframes**\n",
        "- Although we're being provided with two columns worth of text data: Title, and Description we obtain most of the information from the title itself.\n",
        "- So, it's a better choice to merge the title and description columns with the title column being first."
      ]
    },
    {
      "cell_type": "code",
      "execution_count": null,
      "metadata": {
        "execution": {
          "iopub.execute_input": "2023-03-07T08:37:42.56718Z",
          "iopub.status.busy": "2023-03-07T08:37:42.566883Z",
          "iopub.status.idle": "2023-03-07T08:37:42.629141Z",
          "shell.execute_reply": "2023-03-07T08:37:42.62809Z",
          "shell.execute_reply.started": "2023-03-07T08:37:42.567154Z"
        },
        "id": "VYqDAQlwNPBu",
        "trusted": true
      },
      "outputs": [],
      "source": [
        "df_train['text'] = df_train['title'] + \" \" + df_train['description']\n",
        "df_test['text'] = df_test['title'] + \" \" + df_test['description']"
      ]
    },
    {
      "cell_type": "markdown",
      "metadata": {
        "id": "A-DqBs29NPBu"
      },
      "source": [
        "##### **We no longer have much use for the separate title and description columns so we drop them**"
      ]
    },
    {
      "cell_type": "code",
      "execution_count": null,
      "metadata": {
        "execution": {
          "iopub.execute_input": "2023-03-07T08:37:42.63118Z",
          "iopub.status.busy": "2023-03-07T08:37:42.630816Z",
          "iopub.status.idle": "2023-03-07T08:37:42.659818Z",
          "shell.execute_reply": "2023-03-07T08:37:42.658805Z",
          "shell.execute_reply.started": "2023-03-07T08:37:42.631142Z"
        },
        "id": "iIqL3U0TNPBv",
        "trusted": true
      },
      "outputs": [],
      "source": [
        "df_train = df_train.drop(['title', 'description'], axis=1)\n",
        "df_test = df_test.drop(['title', 'description'], axis=1)"
      ]
    },
    {
      "cell_type": "markdown",
      "metadata": {
        "id": "DK7c66X-NPBv"
      },
      "source": [
        "#### **Viewing the head once more to confirm the changes made**"
      ]
    },
    {
      "cell_type": "code",
      "execution_count": null,
      "metadata": {
        "colab": {
          "base_uri": "https://localhost:8080/",
          "height": 204
        },
        "execution": {
          "iopub.execute_input": "2023-03-07T08:37:42.661874Z",
          "iopub.status.busy": "2023-03-07T08:37:42.661463Z",
          "iopub.status.idle": "2023-03-07T08:37:42.671677Z",
          "shell.execute_reply": "2023-03-07T08:37:42.670638Z",
          "shell.execute_reply.started": "2023-03-07T08:37:42.661833Z"
        },
        "id": "osSDeUCmNPBv",
        "outputId": "645b1315-6d90-46d9-fa33-d1e39f292a53",
        "trusted": true
      },
      "outputs": [
        {
          "data": {
            "application/vnd.google.colaboratory.intrinsic+json": {
              "summary": "{\n  \"name\": \"df_train\",\n  \"rows\": 60000,\n  \"fields\": [\n    {\n      \"column\": \"labels\",\n      \"properties\": {\n        \"dtype\": \"number\",\n        \"std\": 1,\n        \"min\": 1,\n        \"max\": 4,\n        \"num_unique_values\": 4,\n        \"samples\": [\n          4,\n          2,\n          1\n        ],\n        \"semantic_type\": \"\",\n        \"description\": \"\"\n      }\n    },\n    {\n      \"column\": \"text\",\n      \"properties\": {\n        \"dtype\": \"string\",\n        \"num_unique_values\": 60000,\n        \"samples\": [\n          \"Darfur humanitarian crisis easing, UN says KHARTOUM, Sudan  While violence remains a major concern, the humanitarian crisis in the Darfur region is easing and large-scale deaths from malnutrition and disease are likely to be averted as international assistance pours in, UN ...\",\n          \"Manufacturing accelerates Manufacturing in the nation accelerated in August and September, supporting Federal Reserve chairman Alan Greenspan #39;s view that the economy  quot;regained some traction.\",\n          \"Kiwis ruffle Aussie feathers? They may be relatively small and endearing to the rest of the world, but the Kiwis have an amazing ability to irritate Australians.\"\n        ],\n        \"semantic_type\": \"\",\n        \"description\": \"\"\n      }\n    }\n  ]\n}",
              "type": "dataframe",
              "variable_name": "df_train"
            },
            "text/html": [
              "\n",
              "  <div id=\"df-30f68f11-a6d5-4ac0-a6c2-dbcc5b2de5f0\" class=\"colab-df-container\">\n",
              "    <div>\n",
              "<style scoped>\n",
              "    .dataframe tbody tr th:only-of-type {\n",
              "        vertical-align: middle;\n",
              "    }\n",
              "\n",
              "    .dataframe tbody tr th {\n",
              "        vertical-align: top;\n",
              "    }\n",
              "\n",
              "    .dataframe thead th {\n",
              "        text-align: right;\n",
              "    }\n",
              "</style>\n",
              "<table border=\"1\" class=\"dataframe\">\n",
              "  <thead>\n",
              "    <tr style=\"text-align: right;\">\n",
              "      <th></th>\n",
              "      <th>labels</th>\n",
              "      <th>text</th>\n",
              "    </tr>\n",
              "  </thead>\n",
              "  <tbody>\n",
              "    <tr>\n",
              "      <th>35187</th>\n",
              "      <td>1</td>\n",
              "      <td>2 Assessments of Iraq, 2 Election Strategies T...</td>\n",
              "    </tr>\n",
              "    <tr>\n",
              "      <th>8847</th>\n",
              "      <td>4</td>\n",
              "      <td>Experts to Breed Sheep to Study Disease (AP) A...</td>\n",
              "    </tr>\n",
              "    <tr>\n",
              "      <th>106522</th>\n",
              "      <td>3</td>\n",
              "      <td>Update 1: Blockbuster May Raise Offer for Riva...</td>\n",
              "    </tr>\n",
              "    <tr>\n",
              "      <th>102712</th>\n",
              "      <td>3</td>\n",
              "      <td>Wal-Mart Sees Nov. US Sales Up 0.7 Pct Wal-Mar...</td>\n",
              "    </tr>\n",
              "    <tr>\n",
              "      <th>70586</th>\n",
              "      <td>1</td>\n",
              "      <td>Omar Abdullah survives assassination bid SRINA...</td>\n",
              "    </tr>\n",
              "  </tbody>\n",
              "</table>\n",
              "</div>\n",
              "    <div class=\"colab-df-buttons\">\n",
              "\n",
              "  <div class=\"colab-df-container\">\n",
              "    <button class=\"colab-df-convert\" onclick=\"convertToInteractive('df-30f68f11-a6d5-4ac0-a6c2-dbcc5b2de5f0')\"\n",
              "            title=\"Convert this dataframe to an interactive table.\"\n",
              "            style=\"display:none;\">\n",
              "\n",
              "  <svg xmlns=\"http://www.w3.org/2000/svg\" height=\"24px\" viewBox=\"0 -960 960 960\">\n",
              "    <path d=\"M120-120v-720h720v720H120Zm60-500h600v-160H180v160Zm220 220h160v-160H400v160Zm0 220h160v-160H400v160ZM180-400h160v-160H180v160Zm440 0h160v-160H620v160ZM180-180h160v-160H180v160Zm440 0h160v-160H620v160Z\"/>\n",
              "  </svg>\n",
              "    </button>\n",
              "\n",
              "  <style>\n",
              "    .colab-df-container {\n",
              "      display:flex;\n",
              "      gap: 12px;\n",
              "    }\n",
              "\n",
              "    .colab-df-convert {\n",
              "      background-color: #E8F0FE;\n",
              "      border: none;\n",
              "      border-radius: 50%;\n",
              "      cursor: pointer;\n",
              "      display: none;\n",
              "      fill: #1967D2;\n",
              "      height: 32px;\n",
              "      padding: 0 0 0 0;\n",
              "      width: 32px;\n",
              "    }\n",
              "\n",
              "    .colab-df-convert:hover {\n",
              "      background-color: #E2EBFA;\n",
              "      box-shadow: 0px 1px 2px rgba(60, 64, 67, 0.3), 0px 1px 3px 1px rgba(60, 64, 67, 0.15);\n",
              "      fill: #174EA6;\n",
              "    }\n",
              "\n",
              "    .colab-df-buttons div {\n",
              "      margin-bottom: 4px;\n",
              "    }\n",
              "\n",
              "    [theme=dark] .colab-df-convert {\n",
              "      background-color: #3B4455;\n",
              "      fill: #D2E3FC;\n",
              "    }\n",
              "\n",
              "    [theme=dark] .colab-df-convert:hover {\n",
              "      background-color: #434B5C;\n",
              "      box-shadow: 0px 1px 3px 1px rgba(0, 0, 0, 0.15);\n",
              "      filter: drop-shadow(0px 1px 2px rgba(0, 0, 0, 0.3));\n",
              "      fill: #FFFFFF;\n",
              "    }\n",
              "  </style>\n",
              "\n",
              "    <script>\n",
              "      const buttonEl =\n",
              "        document.querySelector('#df-30f68f11-a6d5-4ac0-a6c2-dbcc5b2de5f0 button.colab-df-convert');\n",
              "      buttonEl.style.display =\n",
              "        google.colab.kernel.accessAllowed ? 'block' : 'none';\n",
              "\n",
              "      async function convertToInteractive(key) {\n",
              "        const element = document.querySelector('#df-30f68f11-a6d5-4ac0-a6c2-dbcc5b2de5f0');\n",
              "        const dataTable =\n",
              "          await google.colab.kernel.invokeFunction('convertToInteractive',\n",
              "                                                    [key], {});\n",
              "        if (!dataTable) return;\n",
              "\n",
              "        const docLinkHtml = 'Like what you see? Visit the ' +\n",
              "          '<a target=\"_blank\" href=https://colab.research.google.com/notebooks/data_table.ipynb>data table notebook</a>'\n",
              "          + ' to learn more about interactive tables.';\n",
              "        element.innerHTML = '';\n",
              "        dataTable['output_type'] = 'display_data';\n",
              "        await google.colab.output.renderOutput(dataTable, element);\n",
              "        const docLink = document.createElement('div');\n",
              "        docLink.innerHTML = docLinkHtml;\n",
              "        element.appendChild(docLink);\n",
              "      }\n",
              "    </script>\n",
              "  </div>\n",
              "\n",
              "\n",
              "<div id=\"df-5d9b996c-db43-4a14-a174-96e98caf7362\">\n",
              "  <button class=\"colab-df-quickchart\" onclick=\"quickchart('df-5d9b996c-db43-4a14-a174-96e98caf7362')\"\n",
              "            title=\"Suggest charts\"\n",
              "            style=\"display:none;\">\n",
              "\n",
              "<svg xmlns=\"http://www.w3.org/2000/svg\" height=\"24px\"viewBox=\"0 0 24 24\"\n",
              "     width=\"24px\">\n",
              "    <g>\n",
              "        <path d=\"M19 3H5c-1.1 0-2 .9-2 2v14c0 1.1.9 2 2 2h14c1.1 0 2-.9 2-2V5c0-1.1-.9-2-2-2zM9 17H7v-7h2v7zm4 0h-2V7h2v10zm4 0h-2v-4h2v4z\"/>\n",
              "    </g>\n",
              "</svg>\n",
              "  </button>\n",
              "\n",
              "<style>\n",
              "  .colab-df-quickchart {\n",
              "      --bg-color: #E8F0FE;\n",
              "      --fill-color: #1967D2;\n",
              "      --hover-bg-color: #E2EBFA;\n",
              "      --hover-fill-color: #174EA6;\n",
              "      --disabled-fill-color: #AAA;\n",
              "      --disabled-bg-color: #DDD;\n",
              "  }\n",
              "\n",
              "  [theme=dark] .colab-df-quickchart {\n",
              "      --bg-color: #3B4455;\n",
              "      --fill-color: #D2E3FC;\n",
              "      --hover-bg-color: #434B5C;\n",
              "      --hover-fill-color: #FFFFFF;\n",
              "      --disabled-bg-color: #3B4455;\n",
              "      --disabled-fill-color: #666;\n",
              "  }\n",
              "\n",
              "  .colab-df-quickchart {\n",
              "    background-color: var(--bg-color);\n",
              "    border: none;\n",
              "    border-radius: 50%;\n",
              "    cursor: pointer;\n",
              "    display: none;\n",
              "    fill: var(--fill-color);\n",
              "    height: 32px;\n",
              "    padding: 0;\n",
              "    width: 32px;\n",
              "  }\n",
              "\n",
              "  .colab-df-quickchart:hover {\n",
              "    background-color: var(--hover-bg-color);\n",
              "    box-shadow: 0 1px 2px rgba(60, 64, 67, 0.3), 0 1px 3px 1px rgba(60, 64, 67, 0.15);\n",
              "    fill: var(--button-hover-fill-color);\n",
              "  }\n",
              "\n",
              "  .colab-df-quickchart-complete:disabled,\n",
              "  .colab-df-quickchart-complete:disabled:hover {\n",
              "    background-color: var(--disabled-bg-color);\n",
              "    fill: var(--disabled-fill-color);\n",
              "    box-shadow: none;\n",
              "  }\n",
              "\n",
              "  .colab-df-spinner {\n",
              "    border: 2px solid var(--fill-color);\n",
              "    border-color: transparent;\n",
              "    border-bottom-color: var(--fill-color);\n",
              "    animation:\n",
              "      spin 1s steps(1) infinite;\n",
              "  }\n",
              "\n",
              "  @keyframes spin {\n",
              "    0% {\n",
              "      border-color: transparent;\n",
              "      border-bottom-color: var(--fill-color);\n",
              "      border-left-color: var(--fill-color);\n",
              "    }\n",
              "    20% {\n",
              "      border-color: transparent;\n",
              "      border-left-color: var(--fill-color);\n",
              "      border-top-color: var(--fill-color);\n",
              "    }\n",
              "    30% {\n",
              "      border-color: transparent;\n",
              "      border-left-color: var(--fill-color);\n",
              "      border-top-color: var(--fill-color);\n",
              "      border-right-color: var(--fill-color);\n",
              "    }\n",
              "    40% {\n",
              "      border-color: transparent;\n",
              "      border-right-color: var(--fill-color);\n",
              "      border-top-color: var(--fill-color);\n",
              "    }\n",
              "    60% {\n",
              "      border-color: transparent;\n",
              "      border-right-color: var(--fill-color);\n",
              "    }\n",
              "    80% {\n",
              "      border-color: transparent;\n",
              "      border-right-color: var(--fill-color);\n",
              "      border-bottom-color: var(--fill-color);\n",
              "    }\n",
              "    90% {\n",
              "      border-color: transparent;\n",
              "      border-bottom-color: var(--fill-color);\n",
              "    }\n",
              "  }\n",
              "</style>\n",
              "\n",
              "  <script>\n",
              "    async function quickchart(key) {\n",
              "      const quickchartButtonEl =\n",
              "        document.querySelector('#' + key + ' button');\n",
              "      quickchartButtonEl.disabled = true;  // To prevent multiple clicks.\n",
              "      quickchartButtonEl.classList.add('colab-df-spinner');\n",
              "      try {\n",
              "        const charts = await google.colab.kernel.invokeFunction(\n",
              "            'suggestCharts', [key], {});\n",
              "      } catch (error) {\n",
              "        console.error('Error during call to suggestCharts:', error);\n",
              "      }\n",
              "      quickchartButtonEl.classList.remove('colab-df-spinner');\n",
              "      quickchartButtonEl.classList.add('colab-df-quickchart-complete');\n",
              "    }\n",
              "    (() => {\n",
              "      let quickchartButtonEl =\n",
              "        document.querySelector('#df-5d9b996c-db43-4a14-a174-96e98caf7362 button');\n",
              "      quickchartButtonEl.style.display =\n",
              "        google.colab.kernel.accessAllowed ? 'block' : 'none';\n",
              "    })();\n",
              "  </script>\n",
              "</div>\n",
              "    </div>\n",
              "  </div>\n"
            ],
            "text/plain": [
              "        labels                                               text\n",
              "35187        1  2 Assessments of Iraq, 2 Election Strategies T...\n",
              "8847         4  Experts to Breed Sheep to Study Disease (AP) A...\n",
              "106522       3  Update 1: Blockbuster May Raise Offer for Riva...\n",
              "102712       3  Wal-Mart Sees Nov. US Sales Up 0.7 Pct Wal-Mar...\n",
              "70586        1  Omar Abdullah survives assassination bid SRINA..."
            ]
          },
          "execution_count": 11,
          "metadata": {},
          "output_type": "execute_result"
        }
      ],
      "source": [
        "df_train.head()"
      ]
    },
    {
      "cell_type": "markdown",
      "metadata": {
        "id": "0Bc6wKLmNPBw"
      },
      "source": [
        "#### **Storing the class labels into a variable**"
      ]
    },
    {
      "cell_type": "code",
      "execution_count": null,
      "metadata": {
        "execution": {
          "iopub.execute_input": "2023-03-07T08:37:42.674139Z",
          "iopub.status.busy": "2023-03-07T08:37:42.673431Z",
          "iopub.status.idle": "2023-03-07T08:37:42.682391Z",
          "shell.execute_reply": "2023-03-07T08:37:42.681377Z",
          "shell.execute_reply.started": "2023-03-07T08:37:42.674101Z"
        },
        "id": "wVjpwzMJNPBx",
        "trusted": true
      },
      "outputs": [],
      "source": [
        "CLASS_LABELS = {0: \"World\", 1: \"Sports\", 2: \"Business\", 3: \"Science/Tech\"}"
      ]
    },
    {
      "cell_type": "markdown",
      "metadata": {
        "id": "6Jvmm6F-NPBy"
      },
      "source": [
        "##### **Changing Class Labels**\n",
        "- Our dataset has class labels in the range 1-4\n",
        "- But, the loss calculation that we will be doing will be through Cross Entropy\n",
        "- If there are 'c' classes, cross entropy expects labels from 0 to c-1\n",
        "- In our case, it's 1 to c\n",
        "- So, we need to decrease all labels by one."
      ]
    },
    {
      "cell_type": "code",
      "execution_count": null,
      "metadata": {
        "execution": {
          "iopub.execute_input": "2023-03-07T08:37:42.684366Z",
          "iopub.status.busy": "2023-03-07T08:37:42.683999Z",
          "iopub.status.idle": "2023-03-07T08:37:42.695052Z",
          "shell.execute_reply": "2023-03-07T08:37:42.694093Z",
          "shell.execute_reply.started": "2023-03-07T08:37:42.68433Z"
        },
        "id": "C95o8cgvNPBy",
        "trusted": true
      },
      "outputs": [],
      "source": [
        "df_train['labels'] = df_train['labels'] - 1\n",
        "df_test['labels'] = df_test['labels'] - 1"
      ]
    },
    {
      "cell_type": "markdown",
      "metadata": {
        "id": "HPawjiG9NPBy"
      },
      "source": [
        "### **2. Data Pre-processing**"
      ]
    },
    {
      "cell_type": "markdown",
      "metadata": {
        "id": "ZD3u1EW5NPBz"
      },
      "source": [
        "##### **For our purposes neither punctuation nor digits provide much use to the classification thus, they can be safely removed without any repercussions**"
      ]
    },
    {
      "cell_type": "code",
      "execution_count": null,
      "metadata": {
        "execution": {
          "iopub.execute_input": "2023-03-07T08:37:42.699283Z",
          "iopub.status.busy": "2023-03-07T08:37:42.698238Z",
          "iopub.status.idle": "2023-03-07T08:37:44.245941Z",
          "shell.execute_reply": "2023-03-07T08:37:44.24488Z",
          "shell.execute_reply.started": "2023-03-07T08:37:42.699244Z"
        },
        "id": "r23VTk_TNPBz",
        "trusted": true
      },
      "outputs": [],
      "source": [
        "# Defining a Regular Expression to extract only the words and spaces\n",
        "df_train['text'] = df_train['text'].apply(lambda x: re.sub('[^a-zA-Z]', ' ', x))\n",
        "df_test['text'] = df_test['text'].apply(lambda x: re.sub('[^a-zA-Z]', ' ', x))"
      ]
    },
    {
      "cell_type": "markdown",
      "metadata": {
        "id": "brfvYP5MNPBz"
      },
      "source": [
        "##### **Normalizing the words in the dataframe, so that all are in lowercase**"
      ]
    },
    {
      "cell_type": "code",
      "execution_count": null,
      "metadata": {
        "execution": {
          "iopub.execute_input": "2023-03-07T08:37:44.248023Z",
          "iopub.status.busy": "2023-03-07T08:37:44.247419Z",
          "iopub.status.idle": "2023-03-07T08:37:44.3378Z",
          "shell.execute_reply": "2023-03-07T08:37:44.33676Z",
          "shell.execute_reply.started": "2023-03-07T08:37:44.247984Z"
        },
        "id": "8Hs1FL2UNPBz",
        "trusted": true
      },
      "outputs": [],
      "source": [
        "# Defining a Regular Expression to convert all words to lowercase\n",
        "df_train['text'] = df_train['text'].apply(lambda x: x.lower())\n",
        "df_test['text'] = df_test['text'].apply(lambda x: x.lower())"
      ]
    },
    {
      "cell_type": "markdown",
      "metadata": {
        "id": "ZD5owoF8NPBz"
      },
      "source": [
        "##### **Analyzing the dataset's shape**"
      ]
    },
    {
      "cell_type": "code",
      "execution_count": null,
      "metadata": {
        "colab": {
          "base_uri": "https://localhost:8080/"
        },
        "execution": {
          "iopub.execute_input": "2023-03-07T08:37:44.343551Z",
          "iopub.status.busy": "2023-03-07T08:37:44.343232Z",
          "iopub.status.idle": "2023-03-07T08:37:44.350246Z",
          "shell.execute_reply": "2023-03-07T08:37:44.348925Z",
          "shell.execute_reply.started": "2023-03-07T08:37:44.343511Z"
        },
        "id": "riaNsHEaNPB0",
        "outputId": "ab4e17e0-d520-43f4-95cf-9afd30517424",
        "trusted": true
      },
      "outputs": [
        {
          "name": "stdout",
          "output_type": "stream",
          "text": [
            "The training dataframe has '60000' rows and '2' columns\n",
            "The testing dataframe has '7600' rows and '2' columns\n"
          ]
        }
      ],
      "source": [
        "print(\"The training dataframe has '{}' rows and '{}' columns\".format(df_train.shape[0],df_train.shape[1]))\n",
        "print(\"The testing dataframe has '{}' rows and '{}' columns\".format(df_test.shape[0],df_test.shape[1]))"
      ]
    },
    {
      "cell_type": "markdown",
      "metadata": {
        "id": "Xa_xcVcKNPB0"
      },
      "source": [
        "##### **Analyzing the class distribution in the training and testing dataframes**"
      ]
    },
    {
      "cell_type": "code",
      "execution_count": null,
      "metadata": {
        "colab": {
          "base_uri": "https://localhost:8080/",
          "height": 447
        },
        "execution": {
          "iopub.execute_input": "2023-03-07T08:37:44.352574Z",
          "iopub.status.busy": "2023-03-07T08:37:44.351755Z",
          "iopub.status.idle": "2023-03-07T08:37:44.882484Z",
          "shell.execute_reply": "2023-03-07T08:37:44.881472Z",
          "shell.execute_reply.started": "2023-03-07T08:37:44.35252Z"
        },
        "id": "zi7k_RaWNPB0",
        "outputId": "18afcbc5-e3f6-46f7-de58-8802099ed687",
        "trusted": true
      },
      "outputs": [
        {
          "data": {
            "text/plain": [
              "<Axes: ylabel='Frequency'>"
            ]
          },
          "execution_count": 17,
          "metadata": {},
          "output_type": "execute_result"
        },
        {
          "data": {
            "image/png": "[encoded data removed]",
            "text/plain": [
              "<Figure size 640x480 with 1 Axes>"
            ]
          },
          "metadata": {},
          "output_type": "display_data"
        }
      ],
      "source": [
        "df_train['labels'].plot(kind='hist', edgecolor='black')"
      ]
    },
    {
      "cell_type": "code",
      "execution_count": null,
      "metadata": {
        "colab": {
          "base_uri": "https://localhost:8080/",
          "height": 447
        },
        "execution": {
          "iopub.execute_input": "2023-03-07T08:37:44.886043Z",
          "iopub.status.busy": "2023-03-07T08:37:44.885746Z",
          "iopub.status.idle": "2023-03-07T08:37:45.117724Z",
          "shell.execute_reply": "2023-03-07T08:37:45.116533Z",
          "shell.execute_reply.started": "2023-03-07T08:37:44.886015Z"
        },
        "id": "J6ag6gchNPB0",
        "outputId": "0114be5f-5028-4a4c-8a98-116d3079f21f",
        "trusted": true
      },
      "outputs": [
        {
          "data": {
            "text/plain": [
              "<Axes: ylabel='Frequency'>"
            ]
          },
          "execution_count": 18,
          "metadata": {},
          "output_type": "execute_result"
        },
        {
          "data": {
            "image/png": "[encoded data removed]",
            "text/plain": [
              "<Figure size 640x480 with 1 Axes>"
            ]
          },
          "metadata": {},
          "output_type": "display_data"
        }
      ],
      "source": [
        "df_test['labels'].plot(kind='hist', edgecolor='black')"
      ]
    },
    {
      "cell_type": "markdown",
      "metadata": {
        "id": "ez4WrE2KNPB0"
      },
      "source": [
        "##### It can be observed that the training data is well distributed with 30,000 samples in each class and that the training dataset has a little over 1,750 samples for each class"
      ]
    },
    {
      "cell_type": "markdown",
      "metadata": {
        "id": "_jNhcJBRNPB0"
      },
      "source": [
        "##### **Checking for null values in the dataframes**"
      ]
    },
    {
      "cell_type": "code",
      "execution_count": null,
      "metadata": {
        "colab": {
          "base_uri": "https://localhost:8080/"
        },
        "execution": {
          "iopub.execute_input": "2023-03-07T08:37:45.120865Z",
          "iopub.status.busy": "2023-03-07T08:37:45.120008Z",
          "iopub.status.idle": "2023-03-07T08:37:45.156247Z",
          "shell.execute_reply": "2023-03-07T08:37:45.155053Z",
          "shell.execute_reply.started": "2023-03-07T08:37:45.120825Z"
        },
        "id": "VsMGKAt1NPB0",
        "outputId": "57267930-861c-4d7c-e1b3-05f61d566f09",
        "trusted": true
      },
      "outputs": [
        {
          "name": "stdout",
          "output_type": "stream",
          "text": [
            "Null values in the training dataframe for the class column is \"False\" and the text column is \"False\"\n",
            "Null values in the testing dataframe for the class column is \"False\" and the text column is \"False\"\n"
          ]
        }
      ],
      "source": [
        "print('Null values in the training dataframe for the class column is \"{}\" and the text column is \"{}\"'.format(df_train.isnull().any()['labels'],df_train.isnull().any()['text']))\n",
        "print('Null values in the testing dataframe for the class column is \"{}\" and the text column is \"{}\"'.format(df_test.isnull().any()['labels'],df_test.isnull().any()['text']))"
      ]
    },
    {
      "cell_type": "markdown",
      "metadata": {
        "id": "cSBR5Q2LNPB1"
      },
      "source": [
        "##### **Checking for empty strings in the text column**"
      ]
    },
    {
      "cell_type": "code",
      "execution_count": null,
      "metadata": {
        "colab": {
          "base_uri": "https://localhost:8080/"
        },
        "execution": {
          "iopub.execute_input": "2023-03-07T08:37:45.158715Z",
          "iopub.status.busy": "2023-03-07T08:37:45.158313Z",
          "iopub.status.idle": "2023-03-07T08:37:45.177922Z",
          "shell.execute_reply": "2023-03-07T08:37:45.176791Z",
          "shell.execute_reply.started": "2023-03-07T08:37:45.158676Z"
        },
        "id": "6VlOfxSzNPB1",
        "outputId": "edbf552b-a503-4871-9ffd-f8379bb50b93",
        "trusted": true
      },
      "outputs": [
        {
          "name": "stdout",
          "output_type": "stream",
          "text": [
            "The number of empty strings in the training dataset is '0'\n",
            "The number of empty strings in the testing dataset is '0'\n"
          ]
        }
      ],
      "source": [
        "print(\"The number of empty strings in the training dataset is '{}'\".format(len(df_train[df_train['text'] == ''].index)))\n",
        "print(\"The number of empty strings in the testing dataset is '{}'\".format(len(df_test[df_test['text'] == ''].index)))"
      ]
    },
    {
      "cell_type": "markdown",
      "metadata": {
        "id": "BnrIBbcnNPB2"
      },
      "source": [
        "##### **Checking for strings with just whitespaces (For ex: \"   \", \" \\n \", etc.)**"
      ]
    },
    {
      "cell_type": "code",
      "execution_count": null,
      "metadata": {
        "colab": {
          "base_uri": "https://localhost:8080/"
        },
        "execution": {
          "iopub.execute_input": "2023-03-07T08:37:45.18024Z",
          "iopub.status.busy": "2023-03-07T08:37:45.179568Z",
          "iopub.status.idle": "2023-03-07T08:37:45.420799Z",
          "shell.execute_reply": "2023-03-07T08:37:45.419616Z",
          "shell.execute_reply.started": "2023-03-07T08:37:45.180203Z"
        },
        "id": "0r2tzUFGNPB2",
        "outputId": "526cc888-182c-45f2-c98d-e9f4e03ff714",
        "trusted": true
      },
      "outputs": [
        {
          "name": "stdout",
          "output_type": "stream",
          "text": [
            "The number of strings with just whitespaces in the training dataframe are '0' in the class column and '0' in the text column\n",
            "The number of strings with just whitespaces in the testing dataframe are '0' in the class column and '0' in the text column\n"
          ]
        }
      ],
      "source": [
        "train_length_1 = len(np.where(df_train.applymap(lambda x: str(x).isspace() == True))[0])\n",
        "train_length_2 = len(np.where(df_train.applymap(lambda x: str(x).isspace() == True))[1])\n",
        "print(\"The number of strings with just whitespaces in the training dataframe are '{}' in the class column and '{}' in the text column\".format(train_length_1, train_length_2))\n",
        "\n",
        "test_length_1 = len(np.where(df_test.applymap(lambda x: str(x).isspace() == True))[0])\n",
        "test_length_2 = len(np.where(df_test.applymap(lambda x: str(x).isspace() == True))[1])\n",
        "print(\"The number of strings with just whitespaces in the testing dataframe are '{}' in the class column and '{}' in the text column\".format(test_length_1, test_length_2))"
      ]
    },
    {
      "cell_type": "markdown",
      "metadata": {
        "id": "UboDRa56NPB2"
      },
      "source": [
        "##### Thus, from all the above observations we can conclude that the data has no abnormalities and can be proceeded with.\n",
        "##### If there were null/empty values, we would've simply deleted the columns.\n",
        "##### If the class distribution was highly un-uniform, we would've undersampled with the majority class and/or oversampled with the minority class"
      ]
    },
    {
      "cell_type": "markdown",
      "metadata": {
        "id": "MZrC7U5GNPB2"
      },
      "source": [
        "##### **Reviewing the dataframes after general text pre-processing**"
      ]
    },
    {
      "cell_type": "code",
      "execution_count": null,
      "metadata": {
        "colab": {
          "base_uri": "https://localhost:8080/",
          "height": 204
        },
        "execution": {
          "iopub.execute_input": "2023-03-07T08:37:45.423295Z",
          "iopub.status.busy": "2023-03-07T08:37:45.422606Z",
          "iopub.status.idle": "2023-03-07T08:37:45.434968Z",
          "shell.execute_reply": "2023-03-07T08:37:45.433776Z",
          "shell.execute_reply.started": "2023-03-07T08:37:45.423254Z"
        },
        "id": "vPOi34evNPB2",
        "outputId": "22296282-6a47-49fe-bae8-5b5860e98e00",
        "trusted": true
      },
      "outputs": [
        {
          "data": {
            "application/vnd.google.colaboratory.intrinsic+json": {
              "summary": "{\n  \"name\": \"df_train\",\n  \"rows\": 60000,\n  \"fields\": [\n    {\n      \"column\": \"labels\",\n      \"properties\": {\n        \"dtype\": \"number\",\n        \"std\": 1,\n        \"min\": 0,\n        \"max\": 3,\n        \"num_unique_values\": 4,\n        \"samples\": [\n          3,\n          1,\n          0\n        ],\n        \"semantic_type\": \"\",\n        \"description\": \"\"\n      }\n    },\n    {\n      \"column\": \"text\",\n      \"properties\": {\n        \"dtype\": \"string\",\n        \"num_unique_values\": 59961,\n        \"samples\": [\n          \"taking it easy to the top a why worry attitude to three dropped shots on two early holes set up young nsw player kurt barnes to rocket to the top of the australian open leaderboard yesterday \",\n          \"the matrix online finds its voice  quot    of americans could correctly name the first president bush     s pet dog millie  but only    knew that both president bush and the challenger  bill clinton  favoured the death penalty quot  link \",\n          \"germany     s schroeder confirms adopting russian toddler german chancellor gerhard schroeder confirmed on wednesday that he and his wife have adopted a child  reported to be a girl from a russian orphanage  but has called on the media to respect his family     s privacy  \"\n        ],\n        \"semantic_type\": \"\",\n        \"description\": \"\"\n      }\n    }\n  ]\n}",
              "type": "dataframe",
              "variable_name": "df_train"
            },
            "text/html": [
              "\n",
              "  <div id=\"df-bd3ecdba-6e23-4ef8-8b22-63e51f82496e\" class=\"colab-df-container\">\n",
              "    <div>\n",
              "<style scoped>\n",
              "    .dataframe tbody tr th:only-of-type {\n",
              "        vertical-align: middle;\n",
              "    }\n",
              "\n",
              "    .dataframe tbody tr th {\n",
              "        vertical-align: top;\n",
              "    }\n",
              "\n",
              "    .dataframe thead th {\n",
              "        text-align: right;\n",
              "    }\n",
              "</style>\n",
              "<table border=\"1\" class=\"dataframe\">\n",
              "  <thead>\n",
              "    <tr style=\"text-align: right;\">\n",
              "      <th></th>\n",
              "      <th>labels</th>\n",
              "      <th>text</th>\n",
              "    </tr>\n",
              "  </thead>\n",
              "  <tbody>\n",
              "    <tr>\n",
              "      <th>35187</th>\n",
              "      <td>0</td>\n",
              "      <td>assessments of iraq    election strategies t...</td>\n",
              "    </tr>\n",
              "    <tr>\n",
              "      <th>8847</th>\n",
              "      <td>3</td>\n",
              "      <td>experts to breed sheep to study disease  ap  a...</td>\n",
              "    </tr>\n",
              "    <tr>\n",
              "      <th>106522</th>\n",
              "      <td>2</td>\n",
              "      <td>update    blockbuster may raise offer for riva...</td>\n",
              "    </tr>\n",
              "    <tr>\n",
              "      <th>102712</th>\n",
              "      <td>2</td>\n",
              "      <td>wal mart sees nov  us sales up     pct wal mar...</td>\n",
              "    </tr>\n",
              "    <tr>\n",
              "      <th>70586</th>\n",
              "      <td>0</td>\n",
              "      <td>omar abdullah survives assassination bid srina...</td>\n",
              "    </tr>\n",
              "  </tbody>\n",
              "</table>\n",
              "</div>\n",
              "    <div class=\"colab-df-buttons\">\n",
              "\n",
              "  <div class=\"colab-df-container\">\n",
              "    <button class=\"colab-df-convert\" onclick=\"convertToInteractive('df-bd3ecdba-6e23-4ef8-8b22-63e51f82496e')\"\n",
              "            title=\"Convert this dataframe to an interactive table.\"\n",
              "            style=\"display:none;\">\n",
              "\n",
              "  <svg xmlns=\"http://www.w3.org/2000/svg\" height=\"24px\" viewBox=\"0 -960 960 960\">\n",
              "    <path d=\"M120-120v-720h720v720H120Zm60-500h600v-160H180v160Zm220 220h160v-160H400v160Zm0 220h160v-160H400v160ZM180-400h160v-160H180v160Zm440 0h160v-160H620v160ZM180-180h160v-160H180v160Zm440 0h160v-160H620v160Z\"/>\n",
              "  </svg>\n",
              "    </button>\n",
              "\n",
              "  <style>\n",
              "    .colab-df-container {\n",
              "      display:flex;\n",
              "      gap: 12px;\n",
              "    }\n",
              "\n",
              "    .colab-df-convert {\n",
              "      background-color: #E8F0FE;\n",
              "      border: none;\n",
              "      border-radius: 50%;\n",
              "      cursor: pointer;\n",
              "      display: none;\n",
              "      fill: #1967D2;\n",
              "      height: 32px;\n",
              "      padding: 0 0 0 0;\n",
              "      width: 32px;\n",
              "    }\n",
              "\n",
              "    .colab-df-convert:hover {\n",
              "      background-color: #E2EBFA;\n",
              "      box-shadow: 0px 1px 2px rgba(60, 64, 67, 0.3), 0px 1px 3px 1px rgba(60, 64, 67, 0.15);\n",
              "      fill: #174EA6;\n",
              "    }\n",
              "\n",
              "    .colab-df-buttons div {\n",
              "      margin-bottom: 4px;\n",
              "    }\n",
              "\n",
              "    [theme=dark] .colab-df-convert {\n",
              "      background-color: #3B4455;\n",
              "      fill: #D2E3FC;\n",
              "    }\n",
              "\n",
              "    [theme=dark] .colab-df-convert:hover {\n",
              "      background-color: #434B5C;\n",
              "      box-shadow: 0px 1px 3px 1px rgba(0, 0, 0, 0.15);\n",
              "      filter: drop-shadow(0px 1px 2px rgba(0, 0, 0, 0.3));\n",
              "      fill: #FFFFFF;\n",
              "    }\n",
              "  </style>\n",
              "\n",
              "    <script>\n",
              "      const buttonEl =\n",
              "        document.querySelector('#df-bd3ecdba-6e23-4ef8-8b22-63e51f82496e button.colab-df-convert');\n",
              "      buttonEl.style.display =\n",
              "        google.colab.kernel.accessAllowed ? 'block' : 'none';\n",
              "\n",
              "      async function convertToInteractive(key) {\n",
              "        const element = document.querySelector('#df-bd3ecdba-6e23-4ef8-8b22-63e51f82496e');\n",
              "        const dataTable =\n",
              "          await google.colab.kernel.invokeFunction('convertToInteractive',\n",
              "                                                    [key], {});\n",
              "        if (!dataTable) return;\n",
              "\n",
              "        const docLinkHtml = 'Like what you see? Visit the ' +\n",
              "          '<a target=\"_blank\" href=https://colab.research.google.com/notebooks/data_table.ipynb>data table notebook</a>'\n",
              "          + ' to learn more about interactive tables.';\n",
              "        element.innerHTML = '';\n",
              "        dataTable['output_type'] = 'display_data';\n",
              "        await google.colab.output.renderOutput(dataTable, element);\n",
              "        const docLink = document.createElement('div');\n",
              "        docLink.innerHTML = docLinkHtml;\n",
              "        element.appendChild(docLink);\n",
              "      }\n",
              "    </script>\n",
              "  </div>\n",
              "\n",
              "\n",
              "<div id=\"df-442b2eed-f6ad-4fda-b200-1a1dfabaf49c\">\n",
              "  <button class=\"colab-df-quickchart\" onclick=\"quickchart('df-442b2eed-f6ad-4fda-b200-1a1dfabaf49c')\"\n",
              "            title=\"Suggest charts\"\n",
              "            style=\"display:none;\">\n",
              "\n",
              "<svg xmlns=\"http://www.w3.org/2000/svg\" height=\"24px\"viewBox=\"0 0 24 24\"\n",
              "     width=\"24px\">\n",
              "    <g>\n",
              "        <path d=\"M19 3H5c-1.1 0-2 .9-2 2v14c0 1.1.9 2 2 2h14c1.1 0 2-.9 2-2V5c0-1.1-.9-2-2-2zM9 17H7v-7h2v7zm4 0h-2V7h2v10zm4 0h-2v-4h2v4z\"/>\n",
              "    </g>\n",
              "</svg>\n",
              "  </button>\n",
              "\n",
              "<style>\n",
              "  .colab-df-quickchart {\n",
              "      --bg-color: #E8F0FE;\n",
              "      --fill-color: #1967D2;\n",
              "      --hover-bg-color: #E2EBFA;\n",
              "      --hover-fill-color: #174EA6;\n",
              "      --disabled-fill-color: #AAA;\n",
              "      --disabled-bg-color: #DDD;\n",
              "  }\n",
              "\n",
              "  [theme=dark] .colab-df-quickchart {\n",
              "      --bg-color: #3B4455;\n",
              "      --fill-color: #D2E3FC;\n",
              "      --hover-bg-color: #434B5C;\n",
              "      --hover-fill-color: #FFFFFF;\n",
              "      --disabled-bg-color: #3B4455;\n",
              "      --disabled-fill-color: #666;\n",
              "  }\n",
              "\n",
              "  .colab-df-quickchart {\n",
              "    background-color: var(--bg-color);\n",
              "    border: none;\n",
              "    border-radius: 50%;\n",
              "    cursor: pointer;\n",
              "    display: none;\n",
              "    fill: var(--fill-color);\n",
              "    height: 32px;\n",
              "    padding: 0;\n",
              "    width: 32px;\n",
              "  }\n",
              "\n",
              "  .colab-df-quickchart:hover {\n",
              "    background-color: var(--hover-bg-color);\n",
              "    box-shadow: 0 1px 2px rgba(60, 64, 67, 0.3), 0 1px 3px 1px rgba(60, 64, 67, 0.15);\n",
              "    fill: var(--button-hover-fill-color);\n",
              "  }\n",
              "\n",
              "  .colab-df-quickchart-complete:disabled,\n",
              "  .colab-df-quickchart-complete:disabled:hover {\n",
              "    background-color: var(--disabled-bg-color);\n",
              "    fill: var(--disabled-fill-color);\n",
              "    box-shadow: none;\n",
              "  }\n",
              "\n",
              "  .colab-df-spinner {\n",
              "    border: 2px solid var(--fill-color);\n",
              "    border-color: transparent;\n",
              "    border-bottom-color: var(--fill-color);\n",
              "    animation:\n",
              "      spin 1s steps(1) infinite;\n",
              "  }\n",
              "\n",
              "  @keyframes spin {\n",
              "    0% {\n",
              "      border-color: transparent;\n",
              "      border-bottom-color: var(--fill-color);\n",
              "      border-left-color: var(--fill-color);\n",
              "    }\n",
              "    20% {\n",
              "      border-color: transparent;\n",
              "      border-left-color: var(--fill-color);\n",
              "      border-top-color: var(--fill-color);\n",
              "    }\n",
              "    30% {\n",
              "      border-color: transparent;\n",
              "      border-left-color: var(--fill-color);\n",
              "      border-top-color: var(--fill-color);\n",
              "      border-right-color: var(--fill-color);\n",
              "    }\n",
              "    40% {\n",
              "      border-color: transparent;\n",
              "      border-right-color: var(--fill-color);\n",
              "      border-top-color: var(--fill-color);\n",
              "    }\n",
              "    60% {\n",
              "      border-color: transparent;\n",
              "      border-right-color: var(--fill-color);\n",
              "    }\n",
              "    80% {\n",
              "      border-color: transparent;\n",
              "      border-right-color: var(--fill-color);\n",
              "      border-bottom-color: var(--fill-color);\n",
              "    }\n",
              "    90% {\n",
              "      border-color: transparent;\n",
              "      border-bottom-color: var(--fill-color);\n",
              "    }\n",
              "  }\n",
              "</style>\n",
              "\n",
              "  <script>\n",
              "    async function quickchart(key) {\n",
              "      const quickchartButtonEl =\n",
              "        document.querySelector('#' + key + ' button');\n",
              "      quickchartButtonEl.disabled = true;  // To prevent multiple clicks.\n",
              "      quickchartButtonEl.classList.add('colab-df-spinner');\n",
              "      try {\n",
              "        const charts = await google.colab.kernel.invokeFunction(\n",
              "            'suggestCharts', [key], {});\n",
              "      } catch (error) {\n",
              "        console.error('Error during call to suggestCharts:', error);\n",
              "      }\n",
              "      quickchartButtonEl.classList.remove('colab-df-spinner');\n",
              "      quickchartButtonEl.classList.add('colab-df-quickchart-complete');\n",
              "    }\n",
              "    (() => {\n",
              "      let quickchartButtonEl =\n",
              "        document.querySelector('#df-442b2eed-f6ad-4fda-b200-1a1dfabaf49c button');\n",
              "      quickchartButtonEl.style.display =\n",
              "        google.colab.kernel.accessAllowed ? 'block' : 'none';\n",
              "    })();\n",
              "  </script>\n",
              "</div>\n",
              "    </div>\n",
              "  </div>\n"
            ],
            "text/plain": [
              "        labels                                               text\n",
              "35187        0    assessments of iraq    election strategies t...\n",
              "8847         3  experts to breed sheep to study disease  ap  a...\n",
              "106522       2  update    blockbuster may raise offer for riva...\n",
              "102712       2  wal mart sees nov  us sales up     pct wal mar...\n",
              "70586        0  omar abdullah survives assassination bid srina..."
            ]
          },
          "execution_count": 22,
          "metadata": {},
          "output_type": "execute_result"
        }
      ],
      "source": [
        "df_train.head()"
      ]
    },
    {
      "cell_type": "code",
      "execution_count": null,
      "metadata": {
        "colab": {
          "base_uri": "https://localhost:8080/",
          "height": 204
        },
        "execution": {
          "iopub.execute_input": "2023-03-07T08:37:45.437094Z",
          "iopub.status.busy": "2023-03-07T08:37:45.436622Z",
          "iopub.status.idle": "2023-03-07T08:37:45.449072Z",
          "shell.execute_reply": "2023-03-07T08:37:45.447758Z",
          "shell.execute_reply.started": "2023-03-07T08:37:45.437045Z"
        },
        "id": "ojqZL1ESNPB3",
        "outputId": "d0226185-6993-4d4b-cac5-d7d918b8c278",
        "trusted": true
      },
      "outputs": [
        {
          "data": {
            "application/vnd.google.colaboratory.intrinsic+json": {
              "summary": "{\n  \"name\": \"df_test\",\n  \"rows\": 7600,\n  \"fields\": [\n    {\n      \"column\": \"labels\",\n      \"properties\": {\n        \"dtype\": \"number\",\n        \"std\": 1,\n        \"min\": 0,\n        \"max\": 3,\n        \"num_unique_values\": 4,\n        \"samples\": [\n          3,\n          0,\n          2\n        ],\n        \"semantic_type\": \"\",\n        \"description\": \"\"\n      }\n    },\n    {\n      \"column\": \"text\",\n      \"properties\": {\n        \"dtype\": \"string\",\n        \"num_unique_values\": 7600,\n        \"samples\": [\n          \"fan v fan  manchester city tottenham hotspur this weekend manchester city entertain spurs  and with last seasons seven goal fa cup epic between the two teams still fresh in the memory  entertain could be the operative word \",\n          \"paris tourists search for key to  da vinci code   reuters  reuters   a funny thing happened on the way to the mona lisa  visitors to the louvre museum in paris  home of the world s most famous painting  started quizzing tour guides about dan brown s best selling novel  the da vinci code  \",\n          \"net firms  don t tax voip the spanish american war is over and a  temporary  tax created to pay for it should not be extended to internet phone calls  industry groups tell the irs\"\n        ],\n        \"semantic_type\": \"\",\n        \"description\": \"\"\n      }\n    }\n  ]\n}",
              "type": "dataframe",
              "variable_name": "df_test"
            },
            "text/html": [
              "\n",
              "  <div id=\"df-4df5fe1d-34ba-4cdf-b98a-387afd1c9d2d\" class=\"colab-df-container\">\n",
              "    <div>\n",
              "<style scoped>\n",
              "    .dataframe tbody tr th:only-of-type {\n",
              "        vertical-align: middle;\n",
              "    }\n",
              "\n",
              "    .dataframe tbody tr th {\n",
              "        vertical-align: top;\n",
              "    }\n",
              "\n",
              "    .dataframe thead th {\n",
              "        text-align: right;\n",
              "    }\n",
              "</style>\n",
              "<table border=\"1\" class=\"dataframe\">\n",
              "  <thead>\n",
              "    <tr style=\"text-align: right;\">\n",
              "      <th></th>\n",
              "      <th>labels</th>\n",
              "      <th>text</th>\n",
              "    </tr>\n",
              "  </thead>\n",
              "  <tbody>\n",
              "    <tr>\n",
              "      <th>0</th>\n",
              "      <td>2</td>\n",
              "      <td>fears for t n pension after talks unions repre...</td>\n",
              "    </tr>\n",
              "    <tr>\n",
              "      <th>1</th>\n",
              "      <td>3</td>\n",
              "      <td>the race is on  second private team sets launc...</td>\n",
              "    </tr>\n",
              "    <tr>\n",
              "      <th>2</th>\n",
              "      <td>3</td>\n",
              "      <td>ky  company wins grant to study peptides  ap  ...</td>\n",
              "    </tr>\n",
              "    <tr>\n",
              "      <th>3</th>\n",
              "      <td>3</td>\n",
              "      <td>prediction unit helps forecast wildfires  ap  ...</td>\n",
              "    </tr>\n",
              "    <tr>\n",
              "      <th>4</th>\n",
              "      <td>3</td>\n",
              "      <td>calif  aims to limit farm related smog  ap  ap...</td>\n",
              "    </tr>\n",
              "  </tbody>\n",
              "</table>\n",
              "</div>\n",
              "    <div class=\"colab-df-buttons\">\n",
              "\n",
              "  <div class=\"colab-df-container\">\n",
              "    <button class=\"colab-df-convert\" onclick=\"convertToInteractive('df-4df5fe1d-34ba-4cdf-b98a-387afd1c9d2d')\"\n",
              "            title=\"Convert this dataframe to an interactive table.\"\n",
              "            style=\"display:none;\">\n",
              "\n",
              "  <svg xmlns=\"http://www.w3.org/2000/svg\" height=\"24px\" viewBox=\"0 -960 960 960\">\n",
              "    <path d=\"M120-120v-720h720v720H120Zm60-500h600v-160H180v160Zm220 220h160v-160H400v160Zm0 220h160v-160H400v160ZM180-400h160v-160H180v160Zm440 0h160v-160H620v160ZM180-180h160v-160H180v160Zm440 0h160v-160H620v160Z\"/>\n",
              "  </svg>\n",
              "    </button>\n",
              "\n",
              "  <style>\n",
              "    .colab-df-container {\n",
              "      display:flex;\n",
              "      gap: 12px;\n",
              "    }\n",
              "\n",
              "    .colab-df-convert {\n",
              "      background-color: #E8F0FE;\n",
              "      border: none;\n",
              "      border-radius: 50%;\n",
              "      cursor: pointer;\n",
              "      display: none;\n",
              "      fill: #1967D2;\n",
              "      height: 32px;\n",
              "      padding: 0 0 0 0;\n",
              "      width: 32px;\n",
              "    }\n",
              "\n",
              "    .colab-df-convert:hover {\n",
              "      background-color: #E2EBFA;\n",
              "      box-shadow: 0px 1px 2px rgba(60, 64, 67, 0.3), 0px 1px 3px 1px rgba(60, 64, 67, 0.15);\n",
              "      fill: #174EA6;\n",
              "    }\n",
              "\n",
              "    .colab-df-buttons div {\n",
              "      margin-bottom: 4px;\n",
              "    }\n",
              "\n",
              "    [theme=dark] .colab-df-convert {\n",
              "      background-color: #3B4455;\n",
              "      fill: #D2E3FC;\n",
              "    }\n",
              "\n",
              "    [theme=dark] .colab-df-convert:hover {\n",
              "      background-color: #434B5C;\n",
              "      box-shadow: 0px 1px 3px 1px rgba(0, 0, 0, 0.15);\n",
              "      filter: drop-shadow(0px 1px 2px rgba(0, 0, 0, 0.3));\n",
              "      fill: #FFFFFF;\n",
              "    }\n",
              "  </style>\n",
              "\n",
              "    <script>\n",
              "      const buttonEl =\n",
              "        document.querySelector('#df-4df5fe1d-34ba-4cdf-b98a-387afd1c9d2d button.colab-df-convert');\n",
              "      buttonEl.style.display =\n",
              "        google.colab.kernel.accessAllowed ? 'block' : 'none';\n",
              "\n",
              "      async function convertToInteractive(key) {\n",
              "        const element = document.querySelector('#df-4df5fe1d-34ba-4cdf-b98a-387afd1c9d2d');\n",
              "        const dataTable =\n",
              "          await google.colab.kernel.invokeFunction('convertToInteractive',\n",
              "                                                    [key], {});\n",
              "        if (!dataTable) return;\n",
              "\n",
              "        const docLinkHtml = 'Like what you see? Visit the ' +\n",
              "          '<a target=\"_blank\" href=https://colab.research.google.com/notebooks/data_table.ipynb>data table notebook</a>'\n",
              "          + ' to learn more about interactive tables.';\n",
              "        element.innerHTML = '';\n",
              "        dataTable['output_type'] = 'display_data';\n",
              "        await google.colab.output.renderOutput(dataTable, element);\n",
              "        const docLink = document.createElement('div');\n",
              "        docLink.innerHTML = docLinkHtml;\n",
              "        element.appendChild(docLink);\n",
              "      }\n",
              "    </script>\n",
              "  </div>\n",
              "\n",
              "\n",
              "<div id=\"df-88b95c46-551b-4c38-a9c2-39069b2034c8\">\n",
              "  <button class=\"colab-df-quickchart\" onclick=\"quickchart('df-88b95c46-551b-4c38-a9c2-39069b2034c8')\"\n",
              "            title=\"Suggest charts\"\n",
              "            style=\"display:none;\">\n",
              "\n",
              "<svg xmlns=\"http://www.w3.org/2000/svg\" height=\"24px\"viewBox=\"0 0 24 24\"\n",
              "     width=\"24px\">\n",
              "    <g>\n",
              "        <path d=\"M19 3H5c-1.1 0-2 .9-2 2v14c0 1.1.9 2 2 2h14c1.1 0 2-.9 2-2V5c0-1.1-.9-2-2-2zM9 17H7v-7h2v7zm4 0h-2V7h2v10zm4 0h-2v-4h2v4z\"/>\n",
              "    </g>\n",
              "</svg>\n",
              "  </button>\n",
              "\n",
              "<style>\n",
              "  .colab-df-quickchart {\n",
              "      --bg-color: #E8F0FE;\n",
              "      --fill-color: #1967D2;\n",
              "      --hover-bg-color: #E2EBFA;\n",
              "      --hover-fill-color: #174EA6;\n",
              "      --disabled-fill-color: #AAA;\n",
              "      --disabled-bg-color: #DDD;\n",
              "  }\n",
              "\n",
              "  [theme=dark] .colab-df-quickchart {\n",
              "      --bg-color: #3B4455;\n",
              "      --fill-color: #D2E3FC;\n",
              "      --hover-bg-color: #434B5C;\n",
              "      --hover-fill-color: #FFFFFF;\n",
              "      --disabled-bg-color: #3B4455;\n",
              "      --disabled-fill-color: #666;\n",
              "  }\n",
              "\n",
              "  .colab-df-quickchart {\n",
              "    background-color: var(--bg-color);\n",
              "    border: none;\n",
              "    border-radius: 50%;\n",
              "    cursor: pointer;\n",
              "    display: none;\n",
              "    fill: var(--fill-color);\n",
              "    height: 32px;\n",
              "    padding: 0;\n",
              "    width: 32px;\n",
              "  }\n",
              "\n",
              "  .colab-df-quickchart:hover {\n",
              "    background-color: var(--hover-bg-color);\n",
              "    box-shadow: 0 1px 2px rgba(60, 64, 67, 0.3), 0 1px 3px 1px rgba(60, 64, 67, 0.15);\n",
              "    fill: var(--button-hover-fill-color);\n",
              "  }\n",
              "\n",
              "  .colab-df-quickchart-complete:disabled,\n",
              "  .colab-df-quickchart-complete:disabled:hover {\n",
              "    background-color: var(--disabled-bg-color);\n",
              "    fill: var(--disabled-fill-color);\n",
              "    box-shadow: none;\n",
              "  }\n",
              "\n",
              "  .colab-df-spinner {\n",
              "    border: 2px solid var(--fill-color);\n",
              "    border-color: transparent;\n",
              "    border-bottom-color: var(--fill-color);\n",
              "    animation:\n",
              "      spin 1s steps(1) infinite;\n",
              "  }\n",
              "\n",
              "  @keyframes spin {\n",
              "    0% {\n",
              "      border-color: transparent;\n",
              "      border-bottom-color: var(--fill-color);\n",
              "      border-left-color: var(--fill-color);\n",
              "    }\n",
              "    20% {\n",
              "      border-color: transparent;\n",
              "      border-left-color: var(--fill-color);\n",
              "      border-top-color: var(--fill-color);\n",
              "    }\n",
              "    30% {\n",
              "      border-color: transparent;\n",
              "      border-left-color: var(--fill-color);\n",
              "      border-top-color: var(--fill-color);\n",
              "      border-right-color: var(--fill-color);\n",
              "    }\n",
              "    40% {\n",
              "      border-color: transparent;\n",
              "      border-right-color: var(--fill-color);\n",
              "      border-top-color: var(--fill-color);\n",
              "    }\n",
              "    60% {\n",
              "      border-color: transparent;\n",
              "      border-right-color: var(--fill-color);\n",
              "    }\n",
              "    80% {\n",
              "      border-color: transparent;\n",
              "      border-right-color: var(--fill-color);\n",
              "      border-bottom-color: var(--fill-color);\n",
              "    }\n",
              "    90% {\n",
              "      border-color: transparent;\n",
              "      border-bottom-color: var(--fill-color);\n",
              "    }\n",
              "  }\n",
              "</style>\n",
              "\n",
              "  <script>\n",
              "    async function quickchart(key) {\n",
              "      const quickchartButtonEl =\n",
              "        document.querySelector('#' + key + ' button');\n",
              "      quickchartButtonEl.disabled = true;  // To prevent multiple clicks.\n",
              "      quickchartButtonEl.classList.add('colab-df-spinner');\n",
              "      try {\n",
              "        const charts = await google.colab.kernel.invokeFunction(\n",
              "            'suggestCharts', [key], {});\n",
              "      } catch (error) {\n",
              "        console.error('Error during call to suggestCharts:', error);\n",
              "      }\n",
              "      quickchartButtonEl.classList.remove('colab-df-spinner');\n",
              "      quickchartButtonEl.classList.add('colab-df-quickchart-complete');\n",
              "    }\n",
              "    (() => {\n",
              "      let quickchartButtonEl =\n",
              "        document.querySelector('#df-88b95c46-551b-4c38-a9c2-39069b2034c8 button');\n",
              "      quickchartButtonEl.style.display =\n",
              "        google.colab.kernel.accessAllowed ? 'block' : 'none';\n",
              "    })();\n",
              "  </script>\n",
              "</div>\n",
              "    </div>\n",
              "  </div>\n"
            ],
            "text/plain": [
              "   labels                                               text\n",
              "0       2  fears for t n pension after talks unions repre...\n",
              "1       3  the race is on  second private team sets launc...\n",
              "2       3  ky  company wins grant to study peptides  ap  ...\n",
              "3       3  prediction unit helps forecast wildfires  ap  ...\n",
              "4       3  calif  aims to limit farm related smog  ap  ap..."
            ]
          },
          "execution_count": 23,
          "metadata": {},
          "output_type": "execute_result"
        }
      ],
      "source": [
        "df_test.head()"
      ]
    },
    {
      "cell_type": "markdown",
      "metadata": {
        "id": "ludb0l5GNPB3"
      },
      "source": [
        "##### **Storing the name of the pre-trained model that we will be using**"
      ]
    },
    {
      "cell_type": "code",
      "execution_count": null,
      "metadata": {
        "execution": {
          "iopub.execute_input": "2023-03-07T08:37:45.451249Z",
          "iopub.status.busy": "2023-03-07T08:37:45.450723Z",
          "iopub.status.idle": "2023-03-07T08:37:45.45724Z",
          "shell.execute_reply": "2023-03-07T08:37:45.456047Z",
          "shell.execute_reply.started": "2023-03-07T08:37:45.451202Z"
        },
        "id": "u0wwZTqTNPB3",
        "trusted": true
      },
      "outputs": [],
      "source": [
        "model = \"distilbert-base-uncased\""
      ]
    },
    {
      "cell_type": "markdown",
      "metadata": {
        "id": "IfwlrA0GNPB3"
      },
      "source": [
        "##### **Declaring an AutoTokenizer which will automatically use the model specific Tokenization technique**"
      ]
    },
    {
      "cell_type": "code",
      "execution_count": null,
      "metadata": {
        "colab": {
          "base_uri": "https://localhost:8080/"
        },
        "execution": {
          "iopub.execute_input": "2023-03-07T08:37:45.459811Z",
          "iopub.status.busy": "2023-03-07T08:37:45.458726Z",
          "iopub.status.idle": "2023-03-07T08:37:46.735981Z",
          "shell.execute_reply": "2023-03-07T08:37:46.734958Z",
          "shell.execute_reply.started": "2023-03-07T08:37:45.459775Z"
        },
        "id": "BhYhGebwNPB3",
        "outputId": "82aa3dd3-b080-40cc-c20d-db4ecdcab1b9",
        "trusted": true
      },
      "outputs": [
        {
          "name": "stderr",
          "output_type": "stream",
          "text": [
            "/usr/local/lib/python3.10/dist-packages/huggingface_hub/utils/_token.py:88: UserWarning: \n",
            "The secret `HF_TOKEN` does not exist in your Colab secrets.\n",
            "To authenticate with the Hugging Face Hub, create a token in your settings tab (https://huggingface.co/settings/tokens), set it as secret in your Google Colab and restart your session.\n",
            "You will be able to reuse this secret in all of your notebooks.\n",
            "Please note that authentication is recommended but still optional to access public models or datasets.\n",
            "  warnings.warn(\n"
          ]
        }
      ],
      "source": [
        "tokenizer = AutoTokenizer.from_pretrained(model)"
      ]
    },
    {
      "cell_type": "markdown",
      "metadata": {
        "id": "NB3SeYioNPB3"
      },
      "source": [
        "##### **Pre-defining functions that will help tokenize the data & convert the dataframe to a Dataset**"
      ]
    },
    {
      "cell_type": "code",
      "execution_count": null,
      "metadata": {
        "execution": {
          "iopub.execute_input": "2023-03-07T08:37:46.737938Z",
          "iopub.status.busy": "2023-03-07T08:37:46.737568Z",
          "iopub.status.idle": "2023-03-07T08:37:46.745786Z",
          "shell.execute_reply": "2023-03-07T08:37:46.744721Z",
          "shell.execute_reply.started": "2023-03-07T08:37:46.737902Z"
        },
        "id": "Oo6kIpviNPB4",
        "trusted": true
      },
      "outputs": [],
      "source": [
        "# This is a helper function to tokenize the input plain text for input and attention data\n",
        "def tokenize(dataset):\n",
        "    return tokenizer(dataset['text'], truncation=True)\n",
        "\n",
        "# This function will convert the dataframe to a dataset and then, perform tokenization\n",
        "# on the dataset using the above helper function\n",
        "def df_to_ds(dataframe):\n",
        "    dataset = Dataset.from_pandas(dataframe, preserve_index=False)\n",
        "    tokenized_ds = dataset.map(tokenize, batched=True)\n",
        "    tokenized_ds = tokenized_ds.remove_columns('text')\n",
        "\n",
        "    return tokenized_ds"
      ]
    },
    {
      "cell_type": "markdown",
      "metadata": {
        "id": "iSpr377kNPB4"
      },
      "source": [
        "##### **Performing the training-validation split on the dataframes**"
      ]
    },
    {
      "cell_type": "code",
      "execution_count": null,
      "metadata": {
        "execution": {
          "iopub.execute_input": "2023-03-07T08:37:46.747977Z",
          "iopub.status.busy": "2023-03-07T08:37:46.747262Z",
          "iopub.status.idle": "2023-03-07T08:37:46.777593Z",
          "shell.execute_reply": "2023-03-07T08:37:46.776614Z",
          "shell.execute_reply.started": "2023-03-07T08:37:46.747926Z"
        },
        "id": "7tVv9vnMNPB4",
        "trusted": true
      },
      "outputs": [],
      "source": [
        "df_train_in, df_val_in = train_test_split(df_train[['labels', 'text']], test_size=0.2, random_state=42)"
      ]
    },
    {
      "cell_type": "markdown",
      "metadata": {
        "id": "8SzhGUy_NPB4"
      },
      "source": [
        "##### **Calling the pre-defined functions on the training and testing dataframes**"
      ]
    },
    {
      "cell_type": "code",
      "execution_count": null,
      "metadata": {
        "colab": {
          "base_uri": "https://localhost:8080/",
          "height": 113,
          "referenced_widgets": [
            "67ec3e2516c44d618cd84830c58e1623",
            "b5643b5c78b74da7a11d1ca878b7f2d3",
            "9f6a9dfd37804c5b9e7ef9e3d993d86a",
            "e52d5df1075a43dfba8707ed6fa96f80",
            "7cc9a69b30364691b413fc63ae72fd44",
            "db7424b80fe5435f85686e8c19330c6b",
            "e4e53216d8954130a05b484b119a70fd",
            "f2ee6fc90c864ee2a21fe2d8ddebab81",
            "1b6bbfb30b444da7b4b738cfa1534254",
            "a9437c87030f4465aa5f91845932c689",
            "1b116326cde04c52810e12a96c69d03c",
            "45a64fc2074d4a708bb3608ead6da398",
            "bb3951c0ed644069b834dd89ec3f2041",
            "fd9b68b4450c464398fbdfb45682603c",
            "adffaf00a5b3470eabaa8eb27a87a802",
            "9241ed6df4574bde9cf98ddb1d0b772d",
            "dc3c114004574fa4846f55fb9595c425",
            "7c76df90992148cd8c7d486b66be48c3",
            "6f996ae69ddf414597ab0b200f5dee46",
            "84440f1762a945ac9a32ef9600938a20",
            "52076b8483cc4759bc9a8f57b0b332f7",
            "287123e0efea4653865b3414451f69c4",
            "d0ed9ba9cf88431c83354989e795c2f3",
            "1b885ee21bd94c83be977966716b4581",
            "929c05bf92d34b4d9588582a8df49072",
            "8315fb50a77a48f8af182180bb861a1c",
            "81c17ce597ab4505ae7b98fdb04cc515",
            "704da383a29c47cf802943f16d3212f3",
            "ba8d2340cf154486925147b95ca51ddb",
            "77c147a956fe4eb9ab4c645bfc897159",
            "4c47083a7c3e4df4ac40a1679a2c1fbd",
            "8dc4f7bf633941199a0c78a5d2a4b471",
            "a4cfd920fd0a446a8ec53d3614386ee9"
          ]
        },
        "execution": {
          "iopub.execute_input": "2023-03-07T08:37:46.779427Z",
          "iopub.status.busy": "2023-03-07T08:37:46.779071Z",
          "iopub.status.idle": "2023-03-07T08:38:05.5964Z",
          "shell.execute_reply": "2023-03-07T08:38:05.595323Z",
          "shell.execute_reply.started": "2023-03-07T08:37:46.779387Z"
        },
        "id": "27ikZe67NPB4",
        "outputId": "1b0c3722-d7c0-48b5-d6c3-7d0cbec341b9",
        "trusted": true
      },
      "outputs": [
        {
          "data": {
            "application/vnd.jupyter.widget-view+json": {
              "model_id": "67ec3e2516c44d618cd84830c58e1623",
              "version_major": 2,
              "version_minor": 0
            },
            "text/plain": [
              "Map:   0%|          | 0/48000 [00:00<?, ? examples/s]"
            ]
          },
          "metadata": {},
          "output_type": "display_data"
        },
        {
          "data": {
            "application/vnd.jupyter.widget-view+json": {
              "model_id": "45a64fc2074d4a708bb3608ead6da398",
              "version_major": 2,
              "version_minor": 0
            },
            "text/plain": [
              "Map:   0%|          | 0/12000 [00:00<?, ? examples/s]"
            ]
          },
          "metadata": {},
          "output_type": "display_data"
        },
        {
          "data": {
            "application/vnd.jupyter.widget-view+json": {
              "model_id": "d0ed9ba9cf88431c83354989e795c2f3",
              "version_major": 2,
              "version_minor": 0
            },
            "text/plain": [
              "Map:   0%|          | 0/7600 [00:00<?, ? examples/s]"
            ]
          },
          "metadata": {},
          "output_type": "display_data"
        }
      ],
      "source": [
        "tokenized_train = df_to_ds(df_train_in)\n",
        "tokenized_val = df_to_ds(df_val_in)\n",
        "tokenized_test = df_to_ds(df_test)"
      ]
    },
    {
      "cell_type": "markdown",
      "metadata": {
        "id": "HtVUlCLYNPB4"
      },
      "source": [
        "##### **Final view of the obtained datasets**"
      ]
    },
    {
      "cell_type": "code",
      "execution_count": null,
      "metadata": {
        "colab": {
          "base_uri": "https://localhost:8080/"
        },
        "execution": {
          "iopub.execute_input": "2023-03-07T08:38:05.598807Z",
          "iopub.status.busy": "2023-03-07T08:38:05.597804Z",
          "iopub.status.idle": "2023-03-07T08:38:05.605953Z",
          "shell.execute_reply": "2023-03-07T08:38:05.605122Z",
          "shell.execute_reply.started": "2023-03-07T08:38:05.598768Z"
        },
        "id": "fRxE66HTNPB4",
        "outputId": "9396c806-30a5-424f-968d-963af59272f8",
        "trusted": true
      },
      "outputs": [
        {
          "data": {
            "text/plain": [
              "Dataset({\n",
              "    features: ['labels', 'input_ids', 'attention_mask'],\n",
              "    num_rows: 48000\n",
              "})"
            ]
          },
          "execution_count": 29,
          "metadata": {},
          "output_type": "execute_result"
        }
      ],
      "source": [
        "tokenized_train"
      ]
    },
    {
      "cell_type": "code",
      "execution_count": null,
      "metadata": {
        "colab": {
          "base_uri": "https://localhost:8080/"
        },
        "execution": {
          "iopub.execute_input": "2023-03-07T08:38:05.607987Z",
          "iopub.status.busy": "2023-03-07T08:38:05.607422Z",
          "iopub.status.idle": "2023-03-07T08:38:05.628116Z",
          "shell.execute_reply": "2023-03-07T08:38:05.627026Z",
          "shell.execute_reply.started": "2023-03-07T08:38:05.60795Z"
        },
        "id": "heXDWLKsNPB5",
        "outputId": "68ebf656-b110-4546-ba3f-f9c97de1a490",
        "trusted": true
      },
      "outputs": [
        {
          "data": {
            "text/plain": [
              "Dataset({\n",
              "    features: ['labels', 'input_ids', 'attention_mask'],\n",
              "    num_rows: 12000\n",
              "})"
            ]
          },
          "execution_count": 30,
          "metadata": {},
          "output_type": "execute_result"
        }
      ],
      "source": [
        "tokenized_val"
      ]
    },
    {
      "cell_type": "code",
      "execution_count": null,
      "metadata": {
        "colab": {
          "base_uri": "https://localhost:8080/"
        },
        "execution": {
          "iopub.execute_input": "2023-03-07T08:38:05.630124Z",
          "iopub.status.busy": "2023-03-07T08:38:05.62962Z",
          "iopub.status.idle": "2023-03-07T08:38:05.644781Z",
          "shell.execute_reply": "2023-03-07T08:38:05.64352Z",
          "shell.execute_reply.started": "2023-03-07T08:38:05.630085Z"
        },
        "id": "d-m0MZusNPB5",
        "outputId": "a3b2341c-c9ee-4f5f-8491-3f4cca50663a",
        "trusted": true
      },
      "outputs": [
        {
          "data": {
            "text/plain": [
              "Dataset({\n",
              "    features: ['labels', 'input_ids', 'attention_mask'],\n",
              "    num_rows: 7600\n",
              "})"
            ]
          },
          "execution_count": 31,
          "metadata": {},
          "output_type": "execute_result"
        }
      ],
      "source": [
        "tokenized_test"
      ]
    },
    {
      "cell_type": "markdown",
      "metadata": {
        "id": "PdUuIPGENPB5"
      },
      "source": [
        "### **3. Fine-tune/Training the Transformer Model**"
      ]
    },
    {
      "cell_type": "markdown",
      "metadata": {
        "id": "w_Bi6fCCNPB5"
      },
      "source": [
        "##### **Setting up the Data Collator object**\n",
        "- The data collator is what will be responsible for the batches that we will be using to train the model (batch training)\n",
        "- It will be of the same type of the data that's being given to it (In this case, Input IDs, Attention Mask, and such...)\n",
        "- The Data Collator we are using will also be adding padding to the training batches"
      ]
    },
    {
      "cell_type": "code",
      "execution_count": null,
      "metadata": {
        "execution": {
          "iopub.execute_input": "2023-03-07T08:38:05.647918Z",
          "iopub.status.busy": "2023-03-07T08:38:05.647649Z",
          "iopub.status.idle": "2023-03-07T08:38:05.655083Z",
          "shell.execute_reply": "2023-03-07T08:38:05.653945Z",
          "shell.execute_reply.started": "2023-03-07T08:38:05.647892Z"
        },
        "id": "XURHPGyTNPB5",
        "trusted": true
      },
      "outputs": [],
      "source": [
        "data_collator = DataCollatorWithPadding(tokenizer=tokenizer)"
      ]
    },
    {
      "cell_type": "markdown",
      "metadata": {
        "id": "NnhcKEp2NPB5"
      },
      "source": [
        "##### **Loading in the HuggingFace Transformer Model**"
      ]
    },
    {
      "cell_type": "code",
      "execution_count": null,
      "metadata": {
        "colab": {
          "base_uri": "https://localhost:8080/"
        },
        "execution": {
          "iopub.execute_input": "2023-03-07T08:38:05.657026Z",
          "iopub.status.busy": "2023-03-07T08:38:05.656535Z",
          "iopub.status.idle": "2023-03-07T08:38:08.813893Z",
          "shell.execute_reply": "2023-03-07T08:38:08.812877Z",
          "shell.execute_reply.started": "2023-03-07T08:38:05.656985Z"
        },
        "id": "NUMkpY6sNPB5",
        "outputId": "1644b007-e6f6-43b0-d964-a766f6a2287a",
        "trusted": true
      },
      "outputs": [
        {
          "name": "stderr",
          "output_type": "stream",
          "text": [
            "Some weights of DistilBertForSequenceClassification were not initialized from the model checkpoint at distilbert-base-uncased and are newly initialized: ['classifier.bias', 'classifier.weight', 'pre_classifier.bias', 'pre_classifier.weight']\n",
            "You should probably TRAIN this model on a down-stream task to be able to use it for predictions and inference.\n"
          ]
        }
      ],
      "source": [
        "transformer = AutoModelForSequenceClassification.from_pretrained(model, num_labels=4)"
      ]
    },
    {
      "cell_type": "code",
      "execution_count": null,
      "metadata": {
        "id": "xtJZVNg-PKtq"
      },
      "outputs": [],
      "source": [
        "#!pip install accelerate"
      ]
    },
    {
      "cell_type": "code",
      "execution_count": null,
      "metadata": {
        "colab": {
          "base_uri": "https://localhost:8080/"
        },
        "id": "Ctncmko_P8qp",
        "outputId": "936ea272-5f7e-4bf1-9748-d267c31bd08a"
      },
      "outputs": [
        {
          "name": "stdout",
          "output_type": "stream",
          "text": [
            "0.27.2\n"
          ]
        }
      ],
      "source": [
        "import accelerate\n",
        "print(accelerate.__version__)"
      ]
    },
    {
      "cell_type": "markdown",
      "metadata": {
        "id": "B2smEAenNPB6"
      },
      "source": [
        "##### **Fine-tuning the transformer model with our data**"
      ]
    },
    {
      "cell_type": "code",
      "execution_count": null,
      "metadata": {
        "colab": {
          "base_uri": "https://localhost:8080/",
          "height": 1000
        },
        "execution": {
          "iopub.execute_input": "2023-03-07T08:38:08.82073Z",
          "iopub.status.busy": "2023-03-07T08:38:08.818333Z",
          "iopub.status.idle": "2023-03-07T09:19:01.814406Z",
          "shell.execute_reply": "2023-03-07T09:19:01.813432Z",
          "shell.execute_reply.started": "2023-03-07T08:38:08.82069Z"
        },
        "id": "RXae4Wv8NPB6",
        "outputId": "b7812353-02cc-4c07-e7f8-e27f239368ab",
        "trusted": true
      },
      "outputs": [
        {
          "name": "stderr",
          "output_type": "stream",
          "text": [
            "Using the `WANDB_DISABLED` environment variable is deprecated and will be removed in v5. Use the --report_to flag to control the integrations used for logging result (for instance --report_to none).\n"
          ]
        },
        {
          "data": {
            "text/html": [
              "\n",
              "    <div>\n",
              "      \n",
              "      <progress value='15000' max='15000' style='width:300px; height:20px; vertical-align: middle;'></progress>\n",
              "      [15000/15000 15:45, Epoch 5/5]\n",
              "    </div>\n",
              "    <table border=\"1\" class=\"dataframe\">\n",
              "  <thead>\n",
              " <tr style=\"text-align: left;\">\n",
              "      <th>Step</th>\n",
              "      <th>Training Loss</th>\n",
              "    </tr>\n",
              "  </thead>\n",
              "  <tbody>\n",
              "    <tr>\n",
              "      <td>500</td>\n",
              "      <td>0.415100</td>\n",
              "    </tr>\n",
              "    <tr>\n",
              "      <td>1000</td>\n",
              "      <td>0.296700</td>\n",
              "    </tr>\n",
              "    <tr>\n",
              "      <td>1500</td>\n",
              "      <td>0.268000</td>\n",
              "    </tr>\n",
              "    <tr>\n",
              "      <td>2000</td>\n",
              "      <td>0.280200</td>\n",
              "    </tr>\n",
              "    <tr>\n",
              "      <td>2500</td>\n",
              "      <td>0.250700</td>\n",
              "    </tr>\n",
              "    <tr>\n",
              "      <td>3000</td>\n",
              "      <td>0.239400</td>\n",
              "    </tr>\n",
              "    <tr>\n",
              "      <td>3500</td>\n",
              "      <td>0.185700</td>\n",
              "    </tr>\n",
              "    <tr>\n",
              "      <td>4000</td>\n",
              "      <td>0.196900</td>\n",
              "    </tr>\n",
              "    <tr>\n",
              "      <td>4500</td>\n",
              "      <td>0.177400</td>\n",
              "    </tr>\n",
              "    <tr>\n",
              "      <td>5000</td>\n",
              "      <td>0.174300</td>\n",
              "    </tr>\n",
              "    <tr>\n",
              "      <td>5500</td>\n",
              "      <td>0.191800</td>\n",
              "    </tr>\n",
              "    <tr>\n",
              "      <td>6000</td>\n",
              "      <td>0.180400</td>\n",
              "    </tr>\n",
              "    <tr>\n",
              "      <td>6500</td>\n",
              "      <td>0.129400</td>\n",
              "    </tr>\n",
              "    <tr>\n",
              "      <td>7000</td>\n",
              "      <td>0.123300</td>\n",
              "    </tr>\n",
              "    <tr>\n",
              "      <td>7500</td>\n",
              "      <td>0.124100</td>\n",
              "    </tr>\n",
              "    <tr>\n",
              "      <td>8000</td>\n",
              "      <td>0.133900</td>\n",
              "    </tr>\n",
              "    <tr>\n",
              "      <td>8500</td>\n",
              "      <td>0.124800</td>\n",
              "    </tr>\n",
              "    <tr>\n",
              "      <td>9000</td>\n",
              "      <td>0.117900</td>\n",
              "    </tr>\n",
              "    <tr>\n",
              "      <td>9500</td>\n",
              "      <td>0.083600</td>\n",
              "    </tr>\n",
              "    <tr>\n",
              "      <td>10000</td>\n",
              "      <td>0.077600</td>\n",
              "    </tr>\n",
              "    <tr>\n",
              "      <td>10500</td>\n",
              "      <td>0.078800</td>\n",
              "    </tr>\n",
              "    <tr>\n",
              "      <td>11000</td>\n",
              "      <td>0.088100</td>\n",
              "    </tr>\n",
              "    <tr>\n",
              "      <td>11500</td>\n",
              "      <td>0.077500</td>\n",
              "    </tr>\n",
              "    <tr>\n",
              "      <td>12000</td>\n",
              "      <td>0.093000</td>\n",
              "    </tr>\n",
              "    <tr>\n",
              "      <td>12500</td>\n",
              "      <td>0.055500</td>\n",
              "    </tr>\n",
              "    <tr>\n",
              "      <td>13000</td>\n",
              "      <td>0.054600</td>\n",
              "    </tr>\n",
              "    <tr>\n",
              "      <td>13500</td>\n",
              "      <td>0.059000</td>\n",
              "    </tr>\n",
              "    <tr>\n",
              "      <td>14000</td>\n",
              "      <td>0.058900</td>\n",
              "    </tr>\n",
              "    <tr>\n",
              "      <td>14500</td>\n",
              "      <td>0.049500</td>\n",
              "    </tr>\n",
              "    <tr>\n",
              "      <td>15000</td>\n",
              "      <td>0.048900</td>\n",
              "    </tr>\n",
              "  </tbody>\n",
              "</table><p>"
            ],
            "text/plain": [
              "<IPython.core.display.HTML object>"
            ]
          },
          "metadata": {},
          "output_type": "display_data"
        },
        {
          "name": "stdout",
          "output_type": "stream",
          "text": [
            "CPU times: user 15min 6s, sys: 10.9 s, total: 15min 17s\n",
            "Wall time: 15min 47s\n"
          ]
        },
        {
          "data": {
            "text/plain": [
              "TrainOutput(global_step=15000, training_loss=0.14782714614868164, metrics={'train_runtime': 947.5646, 'train_samples_per_second': 253.281, 'train_steps_per_second': 15.83, 'total_flos': 4553518114153344.0, 'train_loss': 0.14782714614868164, 'epoch': 5.0})"
            ]
          },
          "execution_count": 36,
          "metadata": {},
          "output_type": "execute_result"
        }
      ],
      "source": [
        "# Slightly modified training Arguments\n",
        "training_args = TrainingArguments(\n",
        "    output_dir=\"./results\",\n",
        "    save_strategy = 'epoch',\n",
        "    optim=\"adamw_torch\",\n",
        "    learning_rate=2e-5,\n",
        "    per_device_train_batch_size=16,\n",
        "    per_device_eval_batch_size=16,\n",
        "    fp16=True,\n",
        "    num_train_epochs=5,\n",
        "    weight_decay=0.01,\n",
        ")\n",
        "\n",
        "\n",
        "trainer = Trainer (\n",
        "    model=transformer,\n",
        "    args=training_args,\n",
        "    train_dataset=tokenized_train,\n",
        "    eval_dataset=tokenized_val,\n",
        "    tokenizer=tokenizer,\n",
        "    data_collator=data_collator,\n",
        ")\n",
        "\n",
        "%time trainer.train()"
      ]
    },
    {
      "cell_type": "markdown",
      "metadata": {
        "id": "hbbjWAgiNPB6"
      },
      "source": [
        "##### **Performing predictions on the testing dataset**"
      ]
    },
    {
      "cell_type": "code",
      "execution_count": null,
      "metadata": {
        "colab": {
          "base_uri": "https://localhost:8080/",
          "height": 17
        },
        "execution": {
          "iopub.execute_input": "2023-03-07T09:21:11.102399Z",
          "iopub.status.busy": "2023-03-07T09:21:11.101806Z",
          "iopub.status.idle": "2023-03-07T09:21:21.64194Z",
          "shell.execute_reply": "2023-03-07T09:21:21.640751Z",
          "shell.execute_reply.started": "2023-03-07T09:21:11.102363Z"
        },
        "id": "W_qani0sNPB6",
        "outputId": "60ea7b7c-8821-491d-e886-279353fc4c88",
        "trusted": true
      },
      "outputs": [
        {
          "data": {
            "text/html": [],
            "text/plain": [
              "<IPython.core.display.HTML object>"
            ]
          },
          "metadata": {},
          "output_type": "display_data"
        }
      ],
      "source": [
        "tokenized_tester = tokenized_test.remove_columns('labels')\n",
        "\n",
        "predictions = trainer.predict(tokenized_test)"
      ]
    },
    {
      "cell_type": "markdown",
      "metadata": {
        "id": "avxzRH4_NPB6"
      },
      "source": [
        "### **4. Reviewing the Accuracy of the Model**"
      ]
    },
    {
      "cell_type": "markdown",
      "metadata": {
        "id": "glUOJ33lNPB7"
      },
      "source": [
        "##### **Confusion Matrix**"
      ]
    },
    {
      "cell_type": "code",
      "execution_count": null,
      "metadata": {
        "colab": {
          "base_uri": "https://localhost:8080/"
        },
        "execution": {
          "iopub.execute_input": "2023-03-07T09:24:22.050837Z",
          "iopub.status.busy": "2023-03-07T09:24:22.050316Z",
          "iopub.status.idle": "2023-03-07T09:24:22.326026Z",
          "shell.execute_reply": "2023-03-07T09:24:22.324989Z",
          "shell.execute_reply.started": "2023-03-07T09:24:22.050797Z"
        },
        "id": "H97wWHvTNPB7",
        "outputId": "b14fe73f-931d-4edf-8d24-cf53be878524",
        "trusted": true
      },
      "outputs": [],
      "source": [
        "preds_flat = [np.argmax(x) for x in predictions[0]]\n",
        "\n",
        "print(len(preds_flat))\n",
        "\n",
        "cm = confusion_matrix(df_test['labels'], preds_flat)\n",
        "\n",
        "disp = ConfusionMatrixDisplay(confusion_matrix=cm)\n",
        "\n",
        "disp.plot()\n",
        "\n",
        "plt.show()"
      ]
    },
    {
      "cell_type": "markdown",
      "metadata": {
        "id": "eTfo-XIRNPB7"
      },
      "source": [
        "##### **F1 Score**"
      ]
    },
    {
      "cell_type": "code",
      "execution_count": null,
      "metadata": {
        "colab": {
          "base_uri": "https://localhost:8080/"
        },
        "execution": {
          "iopub.execute_input": "2023-03-07T09:25:41.893407Z",
          "iopub.status.busy": "2023-03-07T09:25:41.892715Z",
          "iopub.status.idle": "2023-03-07T09:25:41.9082Z",
          "shell.execute_reply": "2023-03-07T09:25:41.907016Z",
          "shell.execute_reply.started": "2023-03-07T09:25:41.893369Z"
        },
        "id": "hrkQsFCSNPB7",
        "outputId": "41505e8c-b9da-47b2-a9a3-77d15bf29f81",
        "trusted": true
      },
      "outputs": [
        {
          "name": "stdout",
          "output_type": "stream",
          "text": [
            "precision: [0.93602517 0.97596656 0.8988883  0.90740741]\n",
            "recall: [0.93947368 0.98315789 0.89368421 0.90263158]\n",
            "fscore: [0.93774626 0.97954903 0.8962787  0.90501319]\n",
            "support: [1900 1900 1900 1900]\n"
          ]
        }
      ],
      "source": [
        "precision, recall, fscore, support = score(df_test['labels'], preds_flat)\n",
        "\n",
        "print('precision: {}'.format(precision))\n",
        "print('recall: {}'.format(recall))\n",
        "print('fscore: {}'.format(fscore))\n",
        "print('support: {}'.format(support))"
      ]
    },
    {
      "cell_type": "markdown",
      "metadata": {
        "id": "Kde4pyiBNPB7"
      },
      "source": [
        "##### **Charts**"
      ]
    },
    {
      "cell_type": "code",
      "execution_count": null,
      "metadata": {
        "execution": {
          "iopub.execute_input": "2023-03-07T09:31:44.753599Z",
          "iopub.status.busy": "2023-03-07T09:31:44.752976Z",
          "iopub.status.idle": "2023-03-07T09:31:45.325424Z",
          "shell.execute_reply": "2023-03-07T09:31:45.324442Z",
          "shell.execute_reply.started": "2023-03-07T09:31:44.753539Z"
        },
        "id": "usFGDEeGNPB7",
        "trusted": true
      },
      "outputs": [],
      "source": [
        "DistillBert = {'precision': [0.95132275, 0.98113208, 0.91135881, 0.91188738],\n",
        "                'recall':[0.94631579, 0.98526316, 0.90368421, 0.92052632],\n",
        "                'fscore':[0.94881266, 0.98319328, 0.90750529, 0.91618649]}\n",
        "\n",
        "def show_chart(metric):\n",
        "    models = [DistillBert]\n",
        "    model_names = ['DistillBert']\n",
        "    model_labels = ['Sci/Tech', 'World', 'Sports', 'Business']\n",
        "\n",
        "    for model in models:\n",
        "        plt.plot(model_labels, model[metric])\n",
        "\n",
        "    plt.legend(model_names)\n",
        "    plt.title(metric.title())\n",
        "\n",
        "    plt.show()\n",
        "\n",
        "show_chart('precision')\n",
        "show_chart('recall')\n",
        "show_chart('fscore')"
      ]
    },
    {
      "cell_type": "markdown",
      "metadata": {
        "id": "RdM4JQ50NPB7"
      },
      "source": [
        "### **4. Conclusion**\n",
        "- There are a vast number of models that can be substitued with DistilBert but, I chose it because of how fast it trains.\n",
        "- DistilBERT also 'on paper' retains 97% of the original BERT performance but, with a lot of testing I was able to determine that with this dataset DistilBERT actually performs much better than BERT or RoBERTa\n",
        "\n",
        "- We can also perform hyperparameter tuning using Grid Search techniques like Random Grid Search for even better performance."
      ]
    },
    {
      "cell_type": "markdown",
      "metadata": {
        "id": "w-fhkM4mNPB8"
      },
      "source": [
        "### **5. Saving the model for future use**"
      ]
    },
    {
      "cell_type": "code",
      "execution_count": null,
      "metadata": {
        "execution": {
          "iopub.execute_input": "2023-03-07T09:46:27.773909Z",
          "iopub.status.busy": "2023-03-07T09:46:27.773219Z",
          "iopub.status.idle": "2023-03-07T09:46:28.252562Z",
          "shell.execute_reply": "2023-03-07T09:46:28.251572Z",
          "shell.execute_reply.started": "2023-03-07T09:46:27.773872Z"
        },
        "id": "OdT_7W35NPB8",
        "trusted": true
      },
      "outputs": [],
      "source": [
        "trainer.save_model(\"./DistilBERT-AG-NEWS\")"
      ]
    },
    {
      "cell_type": "code",
      "execution_count": null,
      "metadata": {
        "execution": {
          "iopub.execute_input": "2023-03-07T09:49:27.663659Z",
          "iopub.status.busy": "2023-03-07T09:49:27.662971Z",
          "iopub.status.idle": "2023-03-07T09:49:28.682999Z",
          "shell.execute_reply": "2023-03-07T09:49:28.681756Z",
          "shell.execute_reply.started": "2023-03-07T09:49:27.663619Z"
        },
        "id": "EqEU495rNPB8",
        "trusted": true
      },
      "outputs": [],
      "source": [
        "!zip \"./DistilBERT-AG-NEWS/*\" \"./DistilBERT-AG-NEWS.zip\""
      ]
    }
  ],
  "metadata": {
    "accelerator": "GPU",
    "colab": {
      "gpuType": "T4",
      "provenance": [],
      "toc_visible": true
    },
    "kaggle": {
      "accelerator": "gpu",
      "dataSources": [
        {
          "datasetId": 612351,
          "sourceId": 1095715,
          "sourceType": "datasetVersion"
        }
      ],
      "dockerImageVersionId": 30408,
      "isGpuEnabled": true,
      "isInternetEnabled": true,
      "language": "python",
      "sourceType": "notebook"
    },
    "kernelspec": {
      "display_name": "Python 3",
      "name": "python3"
    },
    "language_info": {
      "codemirror_mode": {
        "name": "ipython",
        "version": 3
      },
      "file_extension": ".py",
      "mimetype": "text/x-python",
      "name": "python",
      "nbconvert_exporter": "python",
      "pygments_lexer": "ipython3",
      "version": "3.10.13"
    },
    "widgets": {
      "application/vnd.jupyter.widget-state+json": {
        "1b116326cde04c52810e12a96c69d03c": {
          "model_module": "@jupyter-widgets/controls",
          "model_module_version": "1.5.0",
          "model_name": "DescriptionStyleModel",
          "state": {
            "_model_module": "@jupyter-widgets/controls",
            "_model_module_version": "1.5.0",
            "_model_name": "DescriptionStyleModel",
            "_view_count": null,
            "_view_module": "@jupyter-widgets/base",
            "_view_module_version": "1.2.0",
            "_view_name": "StyleView",
            "description_width": ""
          }
        },
        "1b6bbfb30b444da7b4b738cfa1534254": {
          "model_module": "@jupyter-widgets/controls",
          "model_module_version": "1.5.0",
          "model_name": "ProgressStyleModel",
          "state": {
            "_model_module": "@jupyter-widgets/controls",
            "_model_module_version": "1.5.0",
            "_model_name": "ProgressStyleModel",
            "_view_count": null,
            "_view_module": "@jupyter-widgets/base",
            "_view_module_version": "1.2.0",
            "_view_name": "StyleView",
            "bar_color": null,
            "description_width": ""
          }
        },
        "1b885ee21bd94c83be977966716b4581": {
          "model_module": "@jupyter-widgets/controls",
          "model_module_version": "1.5.0",
          "model_name": "HTMLModel",
          "state": {
            "_dom_classes": [],
            "_model_module": "@jupyter-widgets/controls",
            "_model_module_version": "1.5.0",
            "_model_name": "HTMLModel",
            "_view_count": null,
            "_view_module": "@jupyter-widgets/controls",
            "_view_module_version": "1.5.0",
            "_view_name": "HTMLView",
            "description": "",
            "description_tooltip": null,
            "layout": "IPY_MODEL_704da383a29c47cf802943f16d3212f3",
            "placeholder": "​",
            "style": "IPY_MODEL_ba8d2340cf154486925147b95ca51ddb",
            "value": "Map: 100%"
          }
        },
        "287123e0efea4653865b3414451f69c4": {
          "model_module": "@jupyter-widgets/controls",
          "model_module_version": "1.5.0",
          "model_name": "DescriptionStyleModel",
          "state": {
            "_model_module": "@jupyter-widgets/controls",
            "_model_module_version": "1.5.0",
            "_model_name": "DescriptionStyleModel",
            "_view_count": null,
            "_view_module": "@jupyter-widgets/base",
            "_view_module_version": "1.2.0",
            "_view_name": "StyleView",
            "description_width": ""
          }
        },
        "45a64fc2074d4a708bb3608ead6da398": {
          "model_module": "@jupyter-widgets/controls",
          "model_module_version": "1.5.0",
          "model_name": "HBoxModel",
          "state": {
            "_dom_classes": [],
            "_model_module": "@jupyter-widgets/controls",
            "_model_module_version": "1.5.0",
            "_model_name": "HBoxModel",
            "_view_count": null,
            "_view_module": "@jupyter-widgets/controls",
            "_view_module_version": "1.5.0",
            "_view_name": "HBoxView",
            "box_style": "",
            "children": [
              "IPY_MODEL_bb3951c0ed644069b834dd89ec3f2041",
              "IPY_MODEL_fd9b68b4450c464398fbdfb45682603c",
              "IPY_MODEL_adffaf00a5b3470eabaa8eb27a87a802"
            ],
            "layout": "IPY_MODEL_9241ed6df4574bde9cf98ddb1d0b772d"
          }
        },
        "4c47083a7c3e4df4ac40a1679a2c1fbd": {
          "model_module": "@jupyter-widgets/controls",
          "model_module_version": "1.5.0",
          "model_name": "ProgressStyleModel",
          "state": {
            "_model_module": "@jupyter-widgets/controls",
            "_model_module_version": "1.5.0",
            "_model_name": "ProgressStyleModel",
            "_view_count": null,
            "_view_module": "@jupyter-widgets/base",
            "_view_module_version": "1.2.0",
            "_view_name": "StyleView",
            "bar_color": null,
            "description_width": ""
          }
        },
        "52076b8483cc4759bc9a8f57b0b332f7": {
          "model_module": "@jupyter-widgets/base",
          "model_module_version": "1.2.0",
          "model_name": "LayoutModel",
          "state": {
            "_model_module": "@jupyter-widgets/base",
            "_model_module_version": "1.2.0",
            "_model_name": "LayoutModel",
            "_view_count": null,
            "_view_module": "@jupyter-widgets/base",
            "_view_module_version": "1.2.0",
            "_view_name": "LayoutView",
            "align_content": null,
            "align_items": null,
            "align_self": null,
            "border": null,
            "bottom": null,
            "display": null,
            "flex": null,
            "flex_flow": null,
            "grid_area": null,
            "grid_auto_columns": null,
            "grid_auto_flow": null,
            "grid_auto_rows": null,
            "grid_column": null,
            "grid_gap": null,
            "grid_row": null,
            "grid_template_areas": null,
            "grid_template_columns": null,
            "grid_template_rows": null,
            "height": null,
            "justify_content": null,
            "justify_items": null,
            "left": null,
            "margin": null,
            "max_height": null,
            "max_width": null,
            "min_height": null,
            "min_width": null,
            "object_fit": null,
            "object_position": null,
            "order": null,
            "overflow": null,
            "overflow_x": null,
            "overflow_y": null,
            "padding": null,
            "right": null,
            "top": null,
            "visibility": null,
            "width": null
          }
        },
        "67ec3e2516c44d618cd84830c58e1623": {
          "model_module": "@jupyter-widgets/controls",
          "model_module_version": "1.5.0",
          "model_name": "HBoxModel",
          "state": {
            "_dom_classes": [],
            "_model_module": "@jupyter-widgets/controls",
            "_model_module_version": "1.5.0",
            "_model_name": "HBoxModel",
            "_view_count": null,
            "_view_module": "@jupyter-widgets/controls",
            "_view_module_version": "1.5.0",
            "_view_name": "HBoxView",
            "box_style": "",
            "children": [
              "IPY_MODEL_b5643b5c78b74da7a11d1ca878b7f2d3",
              "IPY_MODEL_9f6a9dfd37804c5b9e7ef9e3d993d86a",
              "IPY_MODEL_e52d5df1075a43dfba8707ed6fa96f80"
            ],
            "layout": "IPY_MODEL_7cc9a69b30364691b413fc63ae72fd44"
          }
        },
        "6f996ae69ddf414597ab0b200f5dee46": {
          "model_module": "@jupyter-widgets/base",
          "model_module_version": "1.2.0",
          "model_name": "LayoutModel",
          "state": {
            "_model_module": "@jupyter-widgets/base",
            "_model_module_version": "1.2.0",
            "_model_name": "LayoutModel",
            "_view_count": null,
            "_view_module": "@jupyter-widgets/base",
            "_view_module_version": "1.2.0",
            "_view_name": "LayoutView",
            "align_content": null,
            "align_items": null,
            "align_self": null,
            "border": null,
            "bottom": null,
            "display": null,
            "flex": null,
            "flex_flow": null,
            "grid_area": null,
            "grid_auto_columns": null,
            "grid_auto_flow": null,
            "grid_auto_rows": null,
            "grid_column": null,
            "grid_gap": null,
            "grid_row": null,
            "grid_template_areas": null,
            "grid_template_columns": null,
            "grid_template_rows": null,
            "height": null,
            "justify_content": null,
            "justify_items": null,
            "left": null,
            "margin": null,
            "max_height": null,
            "max_width": null,
            "min_height": null,
            "min_width": null,
            "object_fit": null,
            "object_position": null,
            "order": null,
            "overflow": null,
            "overflow_x": null,
            "overflow_y": null,
            "padding": null,
            "right": null,
            "top": null,
            "visibility": null,
            "width": null
          }
        },
        "704da383a29c47cf802943f16d3212f3": {
          "model_module": "@jupyter-widgets/base",
          "model_module_version": "1.2.0",
          "model_name": "LayoutModel",
          "state": {
            "_model_module": "@jupyter-widgets/base",
            "_model_module_version": "1.2.0",
            "_model_name": "LayoutModel",
            "_view_count": null,
            "_view_module": "@jupyter-widgets/base",
            "_view_module_version": "1.2.0",
            "_view_name": "LayoutView",
            "align_content": null,
            "align_items": null,
            "align_self": null,
            "border": null,
            "bottom": null,
            "display": null,
            "flex": null,
            "flex_flow": null,
            "grid_area": null,
            "grid_auto_columns": null,
            "grid_auto_flow": null,
            "grid_auto_rows": null,
            "grid_column": null,
            "grid_gap": null,
            "grid_row": null,
            "grid_template_areas": null,
            "grid_template_columns": null,
            "grid_template_rows": null,
            "height": null,
            "justify_content": null,
            "justify_items": null,
            "left": null,
            "margin": null,
            "max_height": null,
            "max_width": null,
            "min_height": null,
            "min_width": null,
            "object_fit": null,
            "object_position": null,
            "order": null,
            "overflow": null,
            "overflow_x": null,
            "overflow_y": null,
            "padding": null,
            "right": null,
            "top": null,
            "visibility": null,
            "width": null
          }
        },
        "77c147a956fe4eb9ab4c645bfc897159": {
          "model_module": "@jupyter-widgets/base",
          "model_module_version": "1.2.0",
          "model_name": "LayoutModel",
          "state": {
            "_model_module": "@jupyter-widgets/base",
            "_model_module_version": "1.2.0",
            "_model_name": "LayoutModel",
            "_view_count": null,
            "_view_module": "@jupyter-widgets/base",
            "_view_module_version": "1.2.0",
            "_view_name": "LayoutView",
            "align_content": null,
            "align_items": null,
            "align_self": null,
            "border": null,
            "bottom": null,
            "display": null,
            "flex": null,
            "flex_flow": null,
            "grid_area": null,
            "grid_auto_columns": null,
            "grid_auto_flow": null,
            "grid_auto_rows": null,
            "grid_column": null,
            "grid_gap": null,
            "grid_row": null,
            "grid_template_areas": null,
            "grid_template_columns": null,
            "grid_template_rows": null,
            "height": null,
            "justify_content": null,
            "justify_items": null,
            "left": null,
            "margin": null,
            "max_height": null,
            "max_width": null,
            "min_height": null,
            "min_width": null,
            "object_fit": null,
            "object_position": null,
            "order": null,
            "overflow": null,
            "overflow_x": null,
            "overflow_y": null,
            "padding": null,
            "right": null,
            "top": null,
            "visibility": null,
            "width": null
          }
        },
        "7c76df90992148cd8c7d486b66be48c3": {
          "model_module": "@jupyter-widgets/controls",
          "model_module_version": "1.5.0",
          "model_name": "DescriptionStyleModel",
          "state": {
            "_model_module": "@jupyter-widgets/controls",
            "_model_module_version": "1.5.0",
            "_model_name": "DescriptionStyleModel",
            "_view_count": null,
            "_view_module": "@jupyter-widgets/base",
            "_view_module_version": "1.2.0",
            "_view_name": "StyleView",
            "description_width": ""
          }
        },
        "7cc9a69b30364691b413fc63ae72fd44": {
          "model_module": "@jupyter-widgets/base",
          "model_module_version": "1.2.0",
          "model_name": "LayoutModel",
          "state": {
            "_model_module": "@jupyter-widgets/base",
            "_model_module_version": "1.2.0",
            "_model_name": "LayoutModel",
            "_view_count": null,
            "_view_module": "@jupyter-widgets/base",
            "_view_module_version": "1.2.0",
            "_view_name": "LayoutView",
            "align_content": null,
            "align_items": null,
            "align_self": null,
            "border": null,
            "bottom": null,
            "display": null,
            "flex": null,
            "flex_flow": null,
            "grid_area": null,
            "grid_auto_columns": null,
            "grid_auto_flow": null,
            "grid_auto_rows": null,
            "grid_column": null,
            "grid_gap": null,
            "grid_row": null,
            "grid_template_areas": null,
            "grid_template_columns": null,
            "grid_template_rows": null,
            "height": null,
            "justify_content": null,
            "justify_items": null,
            "left": null,
            "margin": null,
            "max_height": null,
            "max_width": null,
            "min_height": null,
            "min_width": null,
            "object_fit": null,
            "object_position": null,
            "order": null,
            "overflow": null,
            "overflow_x": null,
            "overflow_y": null,
            "padding": null,
            "right": null,
            "top": null,
            "visibility": null,
            "width": null
          }
        },
        "81c17ce597ab4505ae7b98fdb04cc515": {
          "model_module": "@jupyter-widgets/base",
          "model_module_version": "1.2.0",
          "model_name": "LayoutModel",
          "state": {
            "_model_module": "@jupyter-widgets/base",
            "_model_module_version": "1.2.0",
            "_model_name": "LayoutModel",
            "_view_count": null,
            "_view_module": "@jupyter-widgets/base",
            "_view_module_version": "1.2.0",
            "_view_name": "LayoutView",
            "align_content": null,
            "align_items": null,
            "align_self": null,
            "border": null,
            "bottom": null,
            "display": null,
            "flex": null,
            "flex_flow": null,
            "grid_area": null,
            "grid_auto_columns": null,
            "grid_auto_flow": null,
            "grid_auto_rows": null,
            "grid_column": null,
            "grid_gap": null,
            "grid_row": null,
            "grid_template_areas": null,
            "grid_template_columns": null,
            "grid_template_rows": null,
            "height": null,
            "justify_content": null,
            "justify_items": null,
            "left": null,
            "margin": null,
            "max_height": null,
            "max_width": null,
            "min_height": null,
            "min_width": null,
            "object_fit": null,
            "object_position": null,
            "order": null,
            "overflow": null,
            "overflow_x": null,
            "overflow_y": null,
            "padding": null,
            "right": null,
            "top": null,
            "visibility": null,
            "width": null
          }
        },
        "8315fb50a77a48f8af182180bb861a1c": {
          "model_module": "@jupyter-widgets/controls",
          "model_module_version": "1.5.0",
          "model_name": "HTMLModel",
          "state": {
            "_dom_classes": [],
            "_model_module": "@jupyter-widgets/controls",
            "_model_module_version": "1.5.0",
            "_model_name": "HTMLModel",
            "_view_count": null,
            "_view_module": "@jupyter-widgets/controls",
            "_view_module_version": "1.5.0",
            "_view_name": "HTMLView",
            "description": "",
            "description_tooltip": null,
            "layout": "IPY_MODEL_8dc4f7bf633941199a0c78a5d2a4b471",
            "placeholder": "​",
            "style": "IPY_MODEL_a4cfd920fd0a446a8ec53d3614386ee9",
            "value": " 7600/7600 [00:02&lt;00:00, 3357.67 examples/s]"
          }
        },
        "84440f1762a945ac9a32ef9600938a20": {
          "model_module": "@jupyter-widgets/controls",
          "model_module_version": "1.5.0",
          "model_name": "ProgressStyleModel",
          "state": {
            "_model_module": "@jupyter-widgets/controls",
            "_model_module_version": "1.5.0",
            "_model_name": "ProgressStyleModel",
            "_view_count": null,
            "_view_module": "@jupyter-widgets/base",
            "_view_module_version": "1.2.0",
            "_view_name": "StyleView",
            "bar_color": null,
            "description_width": ""
          }
        },
        "8dc4f7bf633941199a0c78a5d2a4b471": {
          "model_module": "@jupyter-widgets/base",
          "model_module_version": "1.2.0",
          "model_name": "LayoutModel",
          "state": {
            "_model_module": "@jupyter-widgets/base",
            "_model_module_version": "1.2.0",
            "_model_name": "LayoutModel",
            "_view_count": null,
            "_view_module": "@jupyter-widgets/base",
            "_view_module_version": "1.2.0",
            "_view_name": "LayoutView",
            "align_content": null,
            "align_items": null,
            "align_self": null,
            "border": null,
            "bottom": null,
            "display": null,
            "flex": null,
            "flex_flow": null,
            "grid_area": null,
            "grid_auto_columns": null,
            "grid_auto_flow": null,
            "grid_auto_rows": null,
            "grid_column": null,
            "grid_gap": null,
            "grid_row": null,
            "grid_template_areas": null,
            "grid_template_columns": null,
            "grid_template_rows": null,
            "height": null,
            "justify_content": null,
            "justify_items": null,
            "left": null,
            "margin": null,
            "max_height": null,
            "max_width": null,
            "min_height": null,
            "min_width": null,
            "object_fit": null,
            "object_position": null,
            "order": null,
            "overflow": null,
            "overflow_x": null,
            "overflow_y": null,
            "padding": null,
            "right": null,
            "top": null,
            "visibility": null,
            "width": null
          }
        },
        "9241ed6df4574bde9cf98ddb1d0b772d": {
          "model_module": "@jupyter-widgets/base",
          "model_module_version": "1.2.0",
          "model_name": "LayoutModel",
          "state": {
            "_model_module": "@jupyter-widgets/base",
            "_model_module_version": "1.2.0",
            "_model_name": "LayoutModel",
            "_view_count": null,
            "_view_module": "@jupyter-widgets/base",
            "_view_module_version": "1.2.0",
            "_view_name": "LayoutView",
            "align_content": null,
            "align_items": null,
            "align_self": null,
            "border": null,
            "bottom": null,
            "display": null,
            "flex": null,
            "flex_flow": null,
            "grid_area": null,
            "grid_auto_columns": null,
            "grid_auto_flow": null,
            "grid_auto_rows": null,
            "grid_column": null,
            "grid_gap": null,
            "grid_row": null,
            "grid_template_areas": null,
            "grid_template_columns": null,
            "grid_template_rows": null,
            "height": null,
            "justify_content": null,
            "justify_items": null,
            "left": null,
            "margin": null,
            "max_height": null,
            "max_width": null,
            "min_height": null,
            "min_width": null,
            "object_fit": null,
            "object_position": null,
            "order": null,
            "overflow": null,
            "overflow_x": null,
            "overflow_y": null,
            "padding": null,
            "right": null,
            "top": null,
            "visibility": null,
            "width": null
          }
        },
        "929c05bf92d34b4d9588582a8df49072": {
          "model_module": "@jupyter-widgets/controls",
          "model_module_version": "1.5.0",
          "model_name": "FloatProgressModel",
          "state": {
            "_dom_classes": [],
            "_model_module": "@jupyter-widgets/controls",
            "_model_module_version": "1.5.0",
            "_model_name": "FloatProgressModel",
            "_view_count": null,
            "_view_module": "@jupyter-widgets/controls",
            "_view_module_version": "1.5.0",
            "_view_name": "ProgressView",
            "bar_style": "success",
            "description": "",
            "description_tooltip": null,
            "layout": "IPY_MODEL_77c147a956fe4eb9ab4c645bfc897159",
            "max": 7600,
            "min": 0,
            "orientation": "horizontal",
            "style": "IPY_MODEL_4c47083a7c3e4df4ac40a1679a2c1fbd",
            "value": 7600
          }
        },
        "9f6a9dfd37804c5b9e7ef9e3d993d86a": {
          "model_module": "@jupyter-widgets/controls",
          "model_module_version": "1.5.0",
          "model_name": "FloatProgressModel",
          "state": {
            "_dom_classes": [],
            "_model_module": "@jupyter-widgets/controls",
            "_model_module_version": "1.5.0",
            "_model_name": "FloatProgressModel",
            "_view_count": null,
            "_view_module": "@jupyter-widgets/controls",
            "_view_module_version": "1.5.0",
            "_view_name": "ProgressView",
            "bar_style": "success",
            "description": "",
            "description_tooltip": null,
            "layout": "IPY_MODEL_f2ee6fc90c864ee2a21fe2d8ddebab81",
            "max": 48000,
            "min": 0,
            "orientation": "horizontal",
            "style": "IPY_MODEL_1b6bbfb30b444da7b4b738cfa1534254",
            "value": 48000
          }
        },
        "a4cfd920fd0a446a8ec53d3614386ee9": {
          "model_module": "@jupyter-widgets/controls",
          "model_module_version": "1.5.0",
          "model_name": "DescriptionStyleModel",
          "state": {
            "_model_module": "@jupyter-widgets/controls",
            "_model_module_version": "1.5.0",
            "_model_name": "DescriptionStyleModel",
            "_view_count": null,
            "_view_module": "@jupyter-widgets/base",
            "_view_module_version": "1.2.0",
            "_view_name": "StyleView",
            "description_width": ""
          }
        },
        "a9437c87030f4465aa5f91845932c689": {
          "model_module": "@jupyter-widgets/base",
          "model_module_version": "1.2.0",
          "model_name": "LayoutModel",
          "state": {
            "_model_module": "@jupyter-widgets/base",
            "_model_module_version": "1.2.0",
            "_model_name": "LayoutModel",
            "_view_count": null,
            "_view_module": "@jupyter-widgets/base",
            "_view_module_version": "1.2.0",
            "_view_name": "LayoutView",
            "align_content": null,
            "align_items": null,
            "align_self": null,
            "border": null,
            "bottom": null,
            "display": null,
            "flex": null,
            "flex_flow": null,
            "grid_area": null,
            "grid_auto_columns": null,
            "grid_auto_flow": null,
            "grid_auto_rows": null,
            "grid_column": null,
            "grid_gap": null,
            "grid_row": null,
            "grid_template_areas": null,
            "grid_template_columns": null,
            "grid_template_rows": null,
            "height": null,
            "justify_content": null,
            "justify_items": null,
            "left": null,
            "margin": null,
            "max_height": null,
            "max_width": null,
            "min_height": null,
            "min_width": null,
            "object_fit": null,
            "object_position": null,
            "order": null,
            "overflow": null,
            "overflow_x": null,
            "overflow_y": null,
            "padding": null,
            "right": null,
            "top": null,
            "visibility": null,
            "width": null
          }
        },
        "adffaf00a5b3470eabaa8eb27a87a802": {
          "model_module": "@jupyter-widgets/controls",
          "model_module_version": "1.5.0",
          "model_name": "HTMLModel",
          "state": {
            "_dom_classes": [],
            "_model_module": "@jupyter-widgets/controls",
            "_model_module_version": "1.5.0",
            "_model_name": "HTMLModel",
            "_view_count": null,
            "_view_module": "@jupyter-widgets/controls",
            "_view_module_version": "1.5.0",
            "_view_name": "HTMLView",
            "description": "",
            "description_tooltip": null,
            "layout": "IPY_MODEL_52076b8483cc4759bc9a8f57b0b332f7",
            "placeholder": "​",
            "style": "IPY_MODEL_287123e0efea4653865b3414451f69c4",
            "value": " 12000/12000 [00:02&lt;00:00, 5406.37 examples/s]"
          }
        },
        "b5643b5c78b74da7a11d1ca878b7f2d3": {
          "model_module": "@jupyter-widgets/controls",
          "model_module_version": "1.5.0",
          "model_name": "HTMLModel",
          "state": {
            "_dom_classes": [],
            "_model_module": "@jupyter-widgets/controls",
            "_model_module_version": "1.5.0",
            "_model_name": "HTMLModel",
            "_view_count": null,
            "_view_module": "@jupyter-widgets/controls",
            "_view_module_version": "1.5.0",
            "_view_name": "HTMLView",
            "description": "",
            "description_tooltip": null,
            "layout": "IPY_MODEL_db7424b80fe5435f85686e8c19330c6b",
            "placeholder": "​",
            "style": "IPY_MODEL_e4e53216d8954130a05b484b119a70fd",
            "value": "Map: 100%"
          }
        },
        "ba8d2340cf154486925147b95ca51ddb": {
          "model_module": "@jupyter-widgets/controls",
          "model_module_version": "1.5.0",
          "model_name": "DescriptionStyleModel",
          "state": {
            "_model_module": "@jupyter-widgets/controls",
            "_model_module_version": "1.5.0",
            "_model_name": "DescriptionStyleModel",
            "_view_count": null,
            "_view_module": "@jupyter-widgets/base",
            "_view_module_version": "1.2.0",
            "_view_name": "StyleView",
            "description_width": ""
          }
        },
        "bb3951c0ed644069b834dd89ec3f2041": {
          "model_module": "@jupyter-widgets/controls",
          "model_module_version": "1.5.0",
          "model_name": "HTMLModel",
          "state": {
            "_dom_classes": [],
            "_model_module": "@jupyter-widgets/controls",
            "_model_module_version": "1.5.0",
            "_model_name": "HTMLModel",
            "_view_count": null,
            "_view_module": "@jupyter-widgets/controls",
            "_view_module_version": "1.5.0",
            "_view_name": "HTMLView",
            "description": "",
            "description_tooltip": null,
            "layout": "IPY_MODEL_dc3c114004574fa4846f55fb9595c425",
            "placeholder": "​",
            "style": "IPY_MODEL_7c76df90992148cd8c7d486b66be48c3",
            "value": "Map: 100%"
          }
        },
        "d0ed9ba9cf88431c83354989e795c2f3": {
          "model_module": "@jupyter-widgets/controls",
          "model_module_version": "1.5.0",
          "model_name": "HBoxModel",
          "state": {
            "_dom_classes": [],
            "_model_module": "@jupyter-widgets/controls",
            "_model_module_version": "1.5.0",
            "_model_name": "HBoxModel",
            "_view_count": null,
            "_view_module": "@jupyter-widgets/controls",
            "_view_module_version": "1.5.0",
            "_view_name": "HBoxView",
            "box_style": "",
            "children": [
              "IPY_MODEL_1b885ee21bd94c83be977966716b4581",
              "IPY_MODEL_929c05bf92d34b4d9588582a8df49072",
              "IPY_MODEL_8315fb50a77a48f8af182180bb861a1c"
            ],
            "layout": "IPY_MODEL_81c17ce597ab4505ae7b98fdb04cc515"
          }
        },
        "db7424b80fe5435f85686e8c19330c6b": {
          "model_module": "@jupyter-widgets/base",
          "model_module_version": "1.2.0",
          "model_name": "LayoutModel",
          "state": {
            "_model_module": "@jupyter-widgets/base",
            "_model_module_version": "1.2.0",
            "_model_name": "LayoutModel",
            "_view_count": null,
            "_view_module": "@jupyter-widgets/base",
            "_view_module_version": "1.2.0",
            "_view_name": "LayoutView",
            "align_content": null,
            "align_items": null,
            "align_self": null,
            "border": null,
            "bottom": null,
            "display": null,
            "flex": null,
            "flex_flow": null,
            "grid_area": null,
            "grid_auto_columns": null,
            "grid_auto_flow": null,
            "grid_auto_rows": null,
            "grid_column": null,
            "grid_gap": null,
            "grid_row": null,
            "grid_template_areas": null,
            "grid_template_columns": null,
            "grid_template_rows": null,
            "height": null,
            "justify_content": null,
            "justify_items": null,
            "left": null,
            "margin": null,
            "max_height": null,
            "max_width": null,
            "min_height": null,
            "min_width": null,
            "object_fit": null,
            "object_position": null,
            "order": null,
            "overflow": null,
            "overflow_x": null,
            "overflow_y": null,
            "padding": null,
            "right": null,
            "top": null,
            "visibility": null,
            "width": null
          }
        },
        "dc3c114004574fa4846f55fb9595c425": {
          "model_module": "@jupyter-widgets/base",
          "model_module_version": "1.2.0",
          "model_name": "LayoutModel",
          "state": {
            "_model_module": "@jupyter-widgets/base",
            "_model_module_version": "1.2.0",
            "_model_name": "LayoutModel",
            "_view_count": null,
            "_view_module": "@jupyter-widgets/base",
            "_view_module_version": "1.2.0",
            "_view_name": "LayoutView",
            "align_content": null,
            "align_items": null,
            "align_self": null,
            "border": null,
            "bottom": null,
            "display": null,
            "flex": null,
            "flex_flow": null,
            "grid_area": null,
            "grid_auto_columns": null,
            "grid_auto_flow": null,
            "grid_auto_rows": null,
            "grid_column": null,
            "grid_gap": null,
            "grid_row": null,
            "grid_template_areas": null,
            "grid_template_columns": null,
            "grid_template_rows": null,
            "height": null,
            "justify_content": null,
            "justify_items": null,
            "left": null,
            "margin": null,
            "max_height": null,
            "max_width": null,
            "min_height": null,
            "min_width": null,
            "object_fit": null,
            "object_position": null,
            "order": null,
            "overflow": null,
            "overflow_x": null,
            "overflow_y": null,
            "padding": null,
            "right": null,
            "top": null,
            "visibility": null,
            "width": null
          }
        },
        "e4e53216d8954130a05b484b119a70fd": {
          "model_module": "@jupyter-widgets/controls",
          "model_module_version": "1.5.0",
          "model_name": "DescriptionStyleModel",
          "state": {
            "_model_module": "@jupyter-widgets/controls",
            "_model_module_version": "1.5.0",
            "_model_name": "DescriptionStyleModel",
            "_view_count": null,
            "_view_module": "@jupyter-widgets/base",
            "_view_module_version": "1.2.0",
            "_view_name": "StyleView",
            "description_width": ""
          }
        },
        "e52d5df1075a43dfba8707ed6fa96f80": {
          "model_module": "@jupyter-widgets/controls",
          "model_module_version": "1.5.0",
          "model_name": "HTMLModel",
          "state": {
            "_dom_classes": [],
            "_model_module": "@jupyter-widgets/controls",
            "_model_module_version": "1.5.0",
            "_model_name": "HTMLModel",
            "_view_count": null,
            "_view_module": "@jupyter-widgets/controls",
            "_view_module_version": "1.5.0",
            "_view_name": "HTMLView",
            "description": "",
            "description_tooltip": null,
            "layout": "IPY_MODEL_a9437c87030f4465aa5f91845932c689",
            "placeholder": "​",
            "style": "IPY_MODEL_1b116326cde04c52810e12a96c69d03c",
            "value": " 48000/48000 [00:08&lt;00:00, 5515.16 examples/s]"
          }
        },
        "f2ee6fc90c864ee2a21fe2d8ddebab81": {
          "model_module": "@jupyter-widgets/base",
          "model_module_version": "1.2.0",
          "model_name": "LayoutModel",
          "state": {
            "_model_module": "@jupyter-widgets/base",
            "_model_module_version": "1.2.0",
            "_model_name": "LayoutModel",
            "_view_count": null,
            "_view_module": "@jupyter-widgets/base",
            "_view_module_version": "1.2.0",
            "_view_name": "LayoutView",
            "align_content": null,
            "align_items": null,
            "align_self": null,
            "border": null,
            "bottom": null,
            "display": null,
            "flex": null,
            "flex_flow": null,
            "grid_area": null,
            "grid_auto_columns": null,
            "grid_auto_flow": null,
            "grid_auto_rows": null,
            "grid_column": null,
            "grid_gap": null,
            "grid_row": null,
            "grid_template_areas": null,
            "grid_template_columns": null,
            "grid_template_rows": null,
            "height": null,
            "justify_content": null,
            "justify_items": null,
            "left": null,
            "margin": null,
            "max_height": null,
            "max_width": null,
            "min_height": null,
            "min_width": null,
            "object_fit": null,
            "object_position": null,
            "order": null,
            "overflow": null,
            "overflow_x": null,
            "overflow_y": null,
            "padding": null,
            "right": null,
            "top": null,
            "visibility": null,
            "width": null
          }
        },
        "fd9b68b4450c464398fbdfb45682603c": {
          "model_module": "@jupyter-widgets/controls",
          "model_module_version": "1.5.0",
          "model_name": "FloatProgressModel",
          "state": {
            "_dom_classes": [],
            "_model_module": "@jupyter-widgets/controls",
            "_model_module_version": "1.5.0",
            "_model_name": "FloatProgressModel",
            "_view_count": null,
            "_view_module": "@jupyter-widgets/controls",
            "_view_module_version": "1.5.0",
            "_view_name": "ProgressView",
            "bar_style": "success",
            "description": "",
            "description_tooltip": null,
            "layout": "IPY_MODEL_6f996ae69ddf414597ab0b200f5dee46",
            "max": 12000,
            "min": 0,
            "orientation": "horizontal",
            "style": "IPY_MODEL_84440f1762a945ac9a32ef9600938a20",
            "value": 12000
          }
        }
      }
    }
  },
  "nbformat": 4,
  "nbformat_minor": 0
}
